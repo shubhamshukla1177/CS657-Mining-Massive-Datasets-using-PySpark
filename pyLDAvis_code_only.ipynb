{
 "cells": [
  {
   "cell_type": "code",
   "execution_count": 1,
   "id": "113781a4",
   "metadata": {},
   "outputs": [],
   "source": [
    "import findspark\n",
    "findspark.init()\n",
    "import pyspark\n",
    "import random"
   ]
  },
  {
   "cell_type": "code",
   "execution_count": 2,
   "id": "48cc6f5d",
   "metadata": {},
   "outputs": [],
   "source": [
    "import os\n",
    "os.environ[\"OBJC_DISABLE_INITIALIZE_FORK_SAFETY\"]=\"YES\""
   ]
  },
  {
   "cell_type": "code",
   "execution_count": 3,
   "id": "607cc06f",
   "metadata": {},
   "outputs": [],
   "source": [
    "from pyspark.sql.functions import *"
   ]
  },
  {
   "cell_type": "code",
   "execution_count": 4,
   "id": "49217609",
   "metadata": {},
   "outputs": [],
   "source": [
    "from pyspark.sql import SparkSession"
   ]
  },
  {
   "cell_type": "code",
   "execution_count": 5,
   "id": "f4aa919b",
   "metadata": {},
   "outputs": [],
   "source": [
    "spark = SparkSession.builder.appName(\"AppName\").config(\"spark.executor.memory\", \"8g\").config(\"spark.driver.memory\", \"8g\").config(\"spark.executor.memoryOverhead\", \"1024\").config(\"spark.driver.memoryOverhead\", \"1024\").config(\"spark.memory.fraction\", \"0.9\").config(\"spark.memory.storageFraction\", \"0.5\").config(\"spark.executor.cores\", \"2\").config(\"spark.task.maxFailures\", \"5\").config(\"spark.yarn.am.memory\", \"4g\").getOrCreate()"
   ]
  },
  {
   "cell_type": "code",
   "execution_count": 6,
   "id": "acb413f9",
   "metadata": {},
   "outputs": [],
   "source": [
    "from pyspark import SparkConf as conf, SparkContext as sc"
   ]
  },
  {
   "cell_type": "code",
   "execution_count": 7,
   "id": "e34f484c",
   "metadata": {},
   "outputs": [],
   "source": [
    "from pyspark.sql import SparkSession\n",
    "from pyspark.sql import Row\n",
    "from pyspark.sql import functions\n",
    "import time"
   ]
  },
  {
   "cell_type": "code",
   "execution_count": 8,
   "id": "1c0fdb97",
   "metadata": {},
   "outputs": [],
   "source": [
    "import warnings\n",
    "warnings.filterwarnings('ignore', category=DeprecationWarning) \n",
    "warnings.filterwarnings('ignore', category=FutureWarning) \n",
    "warnings.filterwarnings('ignore', category=UserWarning)"
   ]
  },
  {
   "cell_type": "code",
   "execution_count": 9,
   "id": "7de34726",
   "metadata": {},
   "outputs": [
    {
     "name": "stdout",
     "output_type": "stream",
     "text": [
      "\u001b[38;5;2m[+] Download and installation successful\u001b[0m\n",
      "You can now load the package via spacy.load('en_core_web_sm')\n"
     ]
    }
   ],
   "source": [
    "!pip install spacy --quiet\n",
    "!pip install pyspark --quiet\n",
    "!pip install langdetect --quiet\n",
    "!pip install nltk --quiet \n",
    "!pip install wordcloud --quiet\n",
    "!pip install plotly --quiet\n",
    "!pip install missingno --quiet\n",
    "!pip install gensim --quiet\n",
    "!python -m spacy download en_core_web_sm --quiet"
   ]
  },
  {
   "cell_type": "code",
   "execution_count": 10,
   "id": "e55d4b00",
   "metadata": {},
   "outputs": [],
   "source": [
    "import spacy\n",
    "nlp = spacy.load('en_core_web_sm')"
   ]
  },
  {
   "cell_type": "code",
   "execution_count": 11,
   "id": "f856e4d1",
   "metadata": {},
   "outputs": [],
   "source": [
    "!python -m pip install textblob --quiet"
   ]
  },
  {
   "cell_type": "code",
   "execution_count": 12,
   "id": "d1280073",
   "metadata": {},
   "outputs": [],
   "source": [
    "from sklearn.decomposition import LatentDirichletAllocation\n",
    "from sklearn.feature_extraction.text import CountVectorizer, TfidfVectorizer\n",
    "from pprint import pprint\n",
    "import matplotlib.pyplot as plt\n",
    "%matplotlib inline\n",
    "import gensim\n",
    "from gensim import corpora, models\n",
    "import matplotlib.pyplot as plt\n",
    "from plotly.offline import plot\n",
    "import plotly.graph_objects as go\n",
    "import plotly.express as px\n",
    "\n",
    "import matplotlib as mpl\n",
    "from subprocess import check_output\n",
    "from wordcloud import WordCloud, STOPWORDS\n",
    "import pandas as pd\n",
    "import pyspark\n",
    "from pyspark.sql import SparkSession\n",
    "from pyspark.sql.functions import udf, col, when, trim\n",
    "from pyspark.sql.types import StringType\n",
    "from langdetect import detect\n",
    "\n",
    "# Import Libraries\n",
    "import os\n",
    "import time\n",
    "import missingno as msno\n",
    "import pandas as pd\n",
    "import numpy as np\n",
    "import seaborn as sns\n",
    "import nltk, re, string, collections, unicodedata\n",
    "\n",
    "from matplotlib import cm, dates\n",
    "from matplotlib.ticker import ScalarFormatter\n",
    "from matplotlib.ticker import FuncFormatter\n",
    "from datetime import datetime, timedelta\n",
    "from textblob import TextBlob\n",
    "from langdetect import detect\n",
    "from nltk.util import ngrams\n",
    "from nltk.tokenize import word_tokenize\n",
    "from nltk.classify import NaiveBayesClassifier\n",
    "from nltk.corpus import subjectivity\n",
    "from nltk.sentiment import SentimentAnalyzer\n",
    "from nltk.sentiment.util import *\n",
    "from nltk.sentiment.vader import SentimentIntensityAnalyzer\n",
    "\n",
    "spark = SparkSession.builder.appName(\"ElectionTweet\").getOrCreate()"
   ]
  },
  {
   "cell_type": "code",
   "execution_count": 13,
   "id": "171527c2",
   "metadata": {},
   "outputs": [],
   "source": [
    "# def clean(text):\n",
    "#     '''Make text lowercase, remove text in square brackets, remove links, remove punctuation\n",
    "#     and remove words containing numbers.'''\n",
    "#     stop_words = set(STOPWORDS)\n",
    "#     words = nltk.word_tokenize(text)\n",
    "#     # Use a regular function instead of lambda for multiline operations\n",
    "#     def process_word(word):\n",
    "#         word = str(word).lower()\n",
    "#         word = re.sub('\\[.*?\\]', '', word)\n",
    "#         word = re.sub('https?://\\S+|www\\.\\S+', '', word)\n",
    "#         word = re.sub('<.*?>+', '', word)\n",
    "#         word = re.sub('\\n', '', word)\n",
    "#         word = re.sub('\\w*\\d\\w*', '', word)\n",
    "#         word = re.sub(r'@[A-Za-z0-9]+', '', word)\n",
    "#         word = re.sub(r'#', '', word)\n",
    "#         word = re.sub(r'RT[\\s]+', '', word)\n",
    "#         word = re.sub(r'[^\\w]', ' ', word)\n",
    "#         return word\n",
    "\n",
    "#     filtered_words = [process_word(word) for word in words if word.lower() not in stop_words]\n",
    "#     filtered_sentence = ' '.join(filtered_words)\n",
    "#     return filtered_sentence\n",
    "\n",
    "import re\n",
    "import string\n",
    "from nltk.corpus import stopwords\n",
    "from nltk.tokenize import word_tokenize\n",
    "\n",
    "def clean(text):\n",
    "    '''Make text lowercase, remove text in square brackets, remove links, remove punctuation,\n",
    "    and remove words containing numbers and single letters (e.g., p, m, a, b, etc.).'''\n",
    "    \n",
    "    # Define stop words and punctuation\n",
    "    stop_words = set(stopwords.words('english'))\n",
    "    punctuation = string.punctuation\n",
    "\n",
    "    # Tokenize the text\n",
    "    words = word_tokenize(text)\n",
    "\n",
    "    # Use a regular function instead of lambda for multiline operations\n",
    "    def process_word(word):\n",
    "        word = word.lower()\n",
    "        word = re.sub('\\[.*?\\]', '', word)  # Remove text in square brackets\n",
    "        word = re.sub('https?://\\S+|www\\.\\S+', '', word)  # Remove links\n",
    "        word = re.sub('<.*?>+', '', word)  # Remove HTML tags\n",
    "        word = re.sub('\\n', '', word)  # Remove newline characters\n",
    "        word = re.sub(r'@[A-Za-z0-9]+', '', word)  # Remove mentions\n",
    "        word = re.sub(r'#', '', word)  # Remove hashtags\n",
    "        word = re.sub(r'RT[\\s]+', '', word)  # Remove retweet indicators\n",
    "        word = re.sub(f'[{punctuation}]', '', word)  # Remove punctuation\n",
    "        word = re.sub(r'\\b\\w\\b', '', word)  # Remove single letters\n",
    "\n",
    "        return word\n",
    "\n",
    "    # Filter and join the cleaned words\n",
    "    filtered_words = [process_word(word) for word in words if word.lower() not in stop_words]\n",
    "    filtered_sentence = ' '.join(filtered_words)\n",
    "    return filtered_sentence\n",
    "\n",
    "\n",
    "def getPolarity(text):\n",
    "    return TextBlob(text).sentiment.polarity\n",
    "\n",
    "def getAnalysis(score):\n",
    "    if score < 0:\n",
    "        return 0\n",
    "    elif score==0:\n",
    "        return 0\n",
    "    else:\n",
    "        return 1\n",
    "\n",
    "def detect_language(text):\n",
    "    try:\n",
    "        return detect(text)\n",
    "    except:\n",
    "        return \"unknown\""
   ]
  },
  {
   "cell_type": "code",
   "execution_count": 14,
   "id": "ff5984ef",
   "metadata": {},
   "outputs": [],
   "source": [
    "tweets_biden = pd.read_csv('hashtag_joebiden.csv', lineterminator='\\n', parse_dates=True)"
   ]
  },
  {
   "cell_type": "code",
   "execution_count": 15,
   "id": "116f90cf",
   "metadata": {},
   "outputs": [],
   "source": [
    "tweets_biden['country'].replace({'United States':'United States of America'}, inplace=True)"
   ]
  },
  {
   "cell_type": "code",
   "execution_count": 16,
   "id": "1771e5ce",
   "metadata": {},
   "outputs": [],
   "source": [
    "tweets_biden_tmp = tweets_biden.sort_values('user_followers_count',ascending = False).drop_duplicates(['user_name'])[['tweet','country']]\n",
    "tweets_biden_us = tweets_biden_tmp.dropna()\n",
    "#.loc[tweets_biden_tmp.country == 'United States of America']"
   ]
  },
  {
   "cell_type": "code",
   "execution_count": 17,
   "id": "807516bf",
   "metadata": {},
   "outputs": [
    {
     "data": {
      "text/plain": [
       "tweet      124624\n",
       "country    124624\n",
       "dtype: int64"
      ]
     },
     "execution_count": 17,
     "metadata": {},
     "output_type": "execute_result"
    }
   ],
   "source": [
    "tweets_biden_us.count()"
   ]
  },
  {
   "cell_type": "code",
   "execution_count": 18,
   "id": "89b07714",
   "metadata": {},
   "outputs": [
    {
     "name": "stderr",
     "output_type": "stream",
     "text": [
      "C:\\Users\\SHUBHAM\\AppData\\Local\\Temp\\ipykernel_27260\\2064647528.py:2: SettingWithCopyWarning:\n",
      "\n",
      "\n",
      "A value is trying to be set on a copy of a slice from a DataFrame.\n",
      "Try using .loc[row_indexer,col_indexer] = value instead\n",
      "\n",
      "See the caveats in the documentation: https://pandas.pydata.org/pandas-docs/stable/user_guide/indexing.html#returning-a-view-versus-a-copy\n",
      "\n",
      "C:\\Users\\SHUBHAM\\AppData\\Local\\Temp\\ipykernel_27260\\2064647528.py:3: SettingWithCopyWarning:\n",
      "\n",
      "\n",
      "A value is trying to be set on a copy of a slice from a DataFrame.\n",
      "Try using .loc[row_indexer,col_indexer] = value instead\n",
      "\n",
      "See the caveats in the documentation: https://pandas.pydata.org/pandas-docs/stable/user_guide/indexing.html#returning-a-view-versus-a-copy\n",
      "\n",
      "C:\\Users\\SHUBHAM\\AppData\\Local\\Temp\\ipykernel_27260\\2064647528.py:4: SettingWithCopyWarning:\n",
      "\n",
      "\n",
      "A value is trying to be set on a copy of a slice from a DataFrame.\n",
      "Try using .loc[row_indexer,col_indexer] = value instead\n",
      "\n",
      "See the caveats in the documentation: https://pandas.pydata.org/pandas-docs/stable/user_guide/indexing.html#returning-a-view-versus-a-copy\n",
      "\n",
      "C:\\Users\\SHUBHAM\\AppData\\Local\\Temp\\ipykernel_27260\\2064647528.py:5: SettingWithCopyWarning:\n",
      "\n",
      "\n",
      "A value is trying to be set on a copy of a slice from a DataFrame.\n",
      "Try using .loc[row_indexer,col_indexer] = value instead\n",
      "\n",
      "See the caveats in the documentation: https://pandas.pydata.org/pandas-docs/stable/user_guide/indexing.html#returning-a-view-versus-a-copy\n",
      "\n"
     ]
    },
    {
     "data": {
      "text/html": [
       "<div>\n",
       "<style scoped>\n",
       "    .dataframe tbody tr th:only-of-type {\n",
       "        vertical-align: middle;\n",
       "    }\n",
       "\n",
       "    .dataframe tbody tr th {\n",
       "        vertical-align: top;\n",
       "    }\n",
       "\n",
       "    .dataframe thead th {\n",
       "        text-align: right;\n",
       "    }\n",
       "</style>\n",
       "<table border=\"1\" class=\"dataframe\">\n",
       "  <thead>\n",
       "    <tr style=\"text-align: right;\">\n",
       "      <th></th>\n",
       "      <th>tweet</th>\n",
       "      <th>country</th>\n",
       "      <th>CleanTweet</th>\n",
       "      <th>polarity</th>\n",
       "      <th>sentiment</th>\n",
       "      <th>language</th>\n",
       "    </tr>\n",
       "  </thead>\n",
       "  <tbody>\n",
       "    <tr>\n",
       "      <th>1</th>\n",
       "      <td>President-elect #JoeBiden and Vice-President-e...</td>\n",
       "      <td>India</td>\n",
       "      <td>presidentelect  joebiden vicepresidentelect  k...</td>\n",
       "      <td>0.0000</td>\n",
       "      <td>0</td>\n",
       "      <td>en</td>\n",
       "    </tr>\n",
       "    <tr>\n",
       "      <th>2</th>\n",
       "      <td>U.S. debate commission says it will mute Democ...</td>\n",
       "      <td>China</td>\n",
       "      <td>us debate commission says mute democratic nomi...</td>\n",
       "      <td>0.0000</td>\n",
       "      <td>0</td>\n",
       "      <td>en</td>\n",
       "    </tr>\n",
       "    <tr>\n",
       "      <th>3</th>\n",
       "      <td>Signs of US becoming a failed state\\n\\n#JoeBid...</td>\n",
       "      <td>India</td>\n",
       "      <td>signs us becoming failed state  joebiden may p...</td>\n",
       "      <td>-0.0375</td>\n",
       "      <td>0</td>\n",
       "      <td>en</td>\n",
       "    </tr>\n",
       "    <tr>\n",
       "      <th>8</th>\n",
       "      <td>Bye Donald #biden #kamala https://t.co/t44oNMmhyG</td>\n",
       "      <td>Brazil</td>\n",
       "      <td>bye donald  biden  kamala https  tcot44onmmhyg</td>\n",
       "      <td>0.0000</td>\n",
       "      <td>0</td>\n",
       "      <td>en</td>\n",
       "    </tr>\n",
       "    <tr>\n",
       "      <th>12</th>\n",
       "      <td>Hollywood celebrities took to the streets to c...</td>\n",
       "      <td>India</td>\n",
       "      <td>hollywood celebrities took streets celebrate  ...</td>\n",
       "      <td>0.8000</td>\n",
       "      <td>1</td>\n",
       "      <td>en</td>\n",
       "    </tr>\n",
       "  </tbody>\n",
       "</table>\n",
       "</div>"
      ],
      "text/plain": [
       "                                                tweet country  \\\n",
       "1   President-elect #JoeBiden and Vice-President-e...   India   \n",
       "2   U.S. debate commission says it will mute Democ...   China   \n",
       "3   Signs of US becoming a failed state\\n\\n#JoeBid...   India   \n",
       "8   Bye Donald #biden #kamala https://t.co/t44oNMmhyG  Brazil   \n",
       "12  Hollywood celebrities took to the streets to c...   India   \n",
       "\n",
       "                                           CleanTweet  polarity  sentiment  \\\n",
       "1   presidentelect  joebiden vicepresidentelect  k...    0.0000          0   \n",
       "2   us debate commission says mute democratic nomi...    0.0000          0   \n",
       "3   signs us becoming failed state  joebiden may p...   -0.0375          0   \n",
       "8      bye donald  biden  kamala https  tcot44onmmhyg    0.0000          0   \n",
       "12  hollywood celebrities took streets celebrate  ...    0.8000          1   \n",
       "\n",
       "   language  \n",
       "1        en  \n",
       "2        en  \n",
       "3        en  \n",
       "8        en  \n",
       "12       en  "
      ]
     },
     "execution_count": 18,
     "metadata": {},
     "output_type": "execute_result"
    }
   ],
   "source": [
    "tweets_biden_us.reset_index(inplace = True, drop = True)\n",
    "tweets_biden_us['CleanTweet']=tweets_biden_us['tweet'].apply(clean)\n",
    "tweets_biden_us['polarity']=tweets_biden_us['CleanTweet'].apply(getPolarity)\n",
    "tweets_biden_us['sentiment']=tweets_biden_us['polarity'].apply(getAnalysis)\n",
    "tweets_biden_us['language']=tweets_biden_us[\"CleanTweet\"].apply(detect_language)\n",
    "tweets_biden_us=tweets_biden_us.loc[tweets_biden_us.language == 'en']\n",
    "tweets_biden_us.head()"
   ]
  },
  {
   "cell_type": "code",
   "execution_count": 19,
   "id": "6dc27b6c",
   "metadata": {},
   "outputs": [],
   "source": [
    "def lemmatizer(text):\n",
    "    sent = []\n",
    "    doc = nlp(text)\n",
    "    for word in doc:\n",
    "        sent.append(word.lemma_)\n",
    "    return \" \".join(sent)\n",
    "\n",
    "tweets_biden_us['CleanTweetLemmatize'] =  tweets_biden_us.apply(lambda x: lemmatizer(x['CleanTweet']), axis=1)\n",
    "tweets_biden_us['CleanTweetLemmatize'] = tweets_biden_us['CleanTweetLemmatize'].str.replace('-PRON-', '')"
   ]
  },
  {
   "cell_type": "code",
   "execution_count": 20,
   "id": "31df7f70",
   "metadata": {},
   "outputs": [],
   "source": [
    "def clean_text(text):\n",
    "    hash_tag_removed = re.sub('(#[A-Za-z]+[A-Za-z0-9-_]+)', '', text)\n",
    "    hash_tag_removed = re.sub('(@[A-Za-z]+[A-Za-z0-9-_]+)', '', text)\n",
    "\n",
    "    removed_links = re.sub('http[s]?://(?:[a-zA-Z]|[0-9]|[$-_@.&+]|[!*\\(\\),]|(?:%[0-9a-fA-F][0-9a-fA-F]))+', '', text, flags=re.MULTILINE)\n",
    "    cleaned = re.sub('(@[A-Za-z]+[A-Za-z0-9-_]+)', '', removed_links)\n",
    "    cleaned = ''.join([i if ord(i) < 128 else ' ' for i in cleaned])\n",
    "    \n",
    "    cleaned = cleaned.strip()\n",
    "    return cleaned"
   ]
  },
  {
   "cell_type": "code",
   "execution_count": 21,
   "id": "c20fca64",
   "metadata": {},
   "outputs": [],
   "source": [
    "tweets_biden_us_copy = tweets_biden_us\n",
    "tweets_biden_us['tweet']=tweets_biden_us['CleanTweetLemmatize'].apply(clean_text)"
   ]
  },
  {
   "cell_type": "code",
   "execution_count": null,
   "id": "435e8190",
   "metadata": {},
   "outputs": [],
   "source": [
    "# mpl.rcParams['figure.figsize']=(12.0,12.0)\n",
    "# mpl.rcParams['font.size']=12\n",
    "# mpl.rcParams['savefig.dpi']=100\n",
    "# mpl.rcParams['figure.subplot.bottom']=.1\n",
    "# # stopwords = set(STOPWORDS)"
   ]
  },
  {
   "cell_type": "code",
   "execution_count": null,
   "id": "aceed887",
   "metadata": {},
   "outputs": [],
   "source": [
    "# wordcloud = WordCloud(background_color='white',\n",
    "#                       max_words=500,\n",
    "#                       max_font_size=40,\n",
    "#                       random_state=42\n",
    "#                       ).generate(str(tweets_biden_us['CleanTweetLemmatize']))"
   ]
  },
  {
   "cell_type": "code",
   "execution_count": null,
   "id": "16d216ce",
   "metadata": {},
   "outputs": [],
   "source": [
    "# print(wordcloud)\n",
    "# fig = plt.figure(1)\n",
    "# plt.imshow(wordcloud)\n",
    "# plt.axis('off')\n",
    "# plt.show()"
   ]
  },
  {
   "cell_type": "code",
   "execution_count": 22,
   "id": "c60a1bde",
   "metadata": {},
   "outputs": [],
   "source": [
    "text_data = [text.split() for text in tweets_biden_us['tweet']]\n",
    "dictionary = corpora.Dictionary(text_data)\n",
    "corpus = [dictionary.doc2bow(text) for text in text_data]"
   ]
  },
  {
   "cell_type": "code",
   "execution_count": 23,
   "id": "25f19f27",
   "metadata": {},
   "outputs": [],
   "source": [
    "lda_model = gensim.models.LdaModel(corpus=corpus, id2word=dictionary, num_topics=5, random_state=0, passes=10)\n",
    "topics = lda_model.print_topics(num_words=20)"
   ]
  },
  {
   "cell_type": "code",
   "execution_count": 24,
   "id": "af1cb369",
   "metadata": {},
   "outputs": [
    {
     "name": "stdout",
     "output_type": "stream",
     "text": [
      "(0, '0.012*\"word\" + 0.010*\"bye\" + 0.010*\"bidenharristosaveamerica\" + 0.010*\"fire\" + 0.009*\"cry\" + 0.007*\"forget\" + 0.006*\"orange\" + 0.006*\"yourefire\" + 0.005*\"I\" + 0.005*\"electionresult\" + 0.004*\"dog\" + 0.004*\"hillaryclinton\" + 0.004*\"dumptrump2020\" + 0.004*\"makeamericagreatagain\" + 0.004*\"germany\" + 0.003*\"wonderful\" + 0.003*\"empathy\" + 0.003*\"virus\" + 0.003*\"trumpcrimefamily\" + 0.003*\"bitcoin\"')\n",
      "(1, '0.049*\"biden\" + 0.038*\"vote\" + 0.023*\"trump\" + 0.017*\"https\" + 0.012*\"state\" + 0.012*\"win\" + 0.010*\"count\" + 0.010*\"lead\" + 0.009*\"election2020\" + 0.008*\"ballot\" + 0.007*\"georgia\" + 0.007*\"blue\" + 0.007*\"pennsylvania\" + 0.007*\"election\" + 0.007*\"michigan\" + 0.007*\"nevada\" + 0.007*\"poll\" + 0.005*\"elections2020\" + 0.005*\"call\" + 0.004*\"electionresults2020\"')\n",
      "(2, '0.072*\"https\" + 0.068*\"joebiden\" + 0.052*\"biden\" + 0.026*\"trump\" + 0.024*\"president\" + 0.022*\"election2020\" + 0.018*\"kamalaharris\" + 0.015*\"election\" + 0.014*\"america\" + 0.012*\"congratulation\" + 0.011*\"bidenharris2020\" + 0.011*\"usa\" + 0.011*\"donaldtrump\" + 0.009*\"joe\" + 0.009*\"elections2020\" + 0.008*\"win\" + 0.007*\"uselection2020\" + 0.006*\"bidenharis2020\" + 0.006*\"uselection\" + 0.006*\"new\"')\n",
      "(3, '0.047*\"biden\" + 0.032*\"\\'\" + 0.025*\"trump\" + 0.023*\"joebiden\" + 0.015*\"https\" + 0.013*\"vote\" + 0.010*\"get\" + 0.009*\"go\" + 0.009*\"\"\" + 0.008*\"realdonaldtrump\" + 0.008*\"people\" + 0.008*\"not\" + 0.007*\"like\" + 0.007*\"say\" + 0.007*\"amp\" + 0.006*\"know\" + 0.006*\"year\" + 0.005*\"see\" + 0.005*\"make\" + 0.005*\"think\"')\n",
      "(4, '0.038*\"https\" + 0.027*\"biden\" + 0.013*\"joebiden\" + 0.012*\"twitter\" + 0.010*\"via\" + 0.009*\"china\" + 0.009*\"youtube\" + 0.008*\"hunter\" + 0.007*\"hunterbiden\" + 0.006*\"news\" + 0.006*\"corruption\" + 0.005*\"foxnew\" + 0.005*\"trump2020\" + 0.005*\"cnn\" + 0.004*\"medium\" + 0.004*\"story\" + 0.004*\"email\" + 0.003*\"sound\" + 0.003*\"joe\" + 0.003*\"abc\"')\n"
     ]
    }
   ],
   "source": [
    "for topic in topics:\n",
    "    print(topic)"
   ]
  },
  {
   "cell_type": "code",
   "execution_count": null,
   "id": "c97b44f1",
   "metadata": {},
   "outputs": [],
   "source": [
    "# from collections import Counter\n",
    "# word_freq = Counter()\n",
    "# for text in text_data:\n",
    "#     word_freq.update(text)"
   ]
  },
  {
   "cell_type": "code",
   "execution_count": 28,
   "id": "38d9a713",
   "metadata": {},
   "outputs": [],
   "source": [
    "# for i, topic in lda_model.show_topics(num_words=20, formatted=False):\n",
    "#     topic_words = [word for word, _ in topic]\n",
    "#     topic_wordcloud = WordCloud(\n",
    "#         background_color='white',\n",
    "#         max_words=200,\n",
    "#         max_font_size=40,\n",
    "#         random_state=42,\n",
    "#     ).generate_from_frequencies({word: word_freq[word] for word in topic_words})"
   ]
  },
  {
   "cell_type": "code",
   "execution_count": 29,
   "id": "62172bd5",
   "metadata": {},
   "outputs": [],
   "source": [
    "# plt.figure(figsize=(8, 6), facecolor=None)\n",
    "# plt.imshow(topic_wordcloud)\n",
    "# plt.axis(\"off\")\n",
    "# plt.title(f\"Topic {i + 1}\")\n",
    "# plt.show()"
   ]
  },
  {
   "cell_type": "code",
   "execution_count": 25,
   "id": "5aeff492",
   "metadata": {},
   "outputs": [
    {
     "name": "stderr",
     "output_type": "stream",
     "text": [
      "ERROR: Cannot uninstall 'TBB'. It is a distutils installed project and thus we cannot accurately determine which files belong to it which would lead to only a partial uninstall.\n",
      "  error: subprocess-exited-with-error\n",
      "  \n",
      "  Preparing metadata (pyproject.toml) did not run successfully.\n",
      "  exit code: 1\n",
      "  \n",
      "  [90 lines of output]\n",
      "  Running from numpy source directory.\n",
      "  <string>:461: UserWarning: Unrecognized setuptools command, proceeding with generating Cython sources and expanding templates\n",
      "  C:\\Users\\SHUBHAM\\AppData\\Local\\Temp\\pip-install-pqib0r2i\\numpy_1606744b12644bea9eafb1c4440188cf\\tools\\cythonize.py:75: DeprecationWarning: distutils Version classes are deprecated. Use packaging.version instead.\n",
      "    required_version = LooseVersion('0.29.14')\n",
      "  C:\\Users\\SHUBHAM\\AppData\\Local\\Temp\\pip-install-pqib0r2i\\numpy_1606744b12644bea9eafb1c4440188cf\\tools\\cythonize.py:77: DeprecationWarning: distutils Version classes are deprecated. Use packaging.version instead.\n",
      "    if LooseVersion(cython_version) < required_version:\n",
      "  performance hint: _common.pyx:261:19: Exception check will always require the GIL to be acquired. Declare the function as 'noexcept' if you control the definition and you're sure you don't want the function to raise exceptions.\n",
      "  performance hint: _common.pyx:285:19: Exception check will always require the GIL to be acquired. Declare the function as 'noexcept' if you control the definition and you're sure you don't want the function to raise exceptions.\n",
      "  performance hint: _common.pyx:308:50: Exception check will always require the GIL to be acquired. Declare the function as 'noexcept' if you control the definition and you're sure you don't want the function to raise exceptions.\n",
      "  performance hint: _common.pyx:411:31: Exception check will always require the GIL to be acquired. Declare the function as 'noexcept' if you control the definition and you're sure you don't want the function to raise exceptions.\n",
      "  performance hint: _common.pyx:448:31: Exception check will always require the GIL to be acquired. Declare the function as 'noexcept' if you control the definition and you're sure you don't want the function to raise exceptions.\n",
      "  performance hint: _common.pyx:490:31: Exception check will always require the GIL to be acquired. Declare the function as 'noexcept' if you control the definition and you're sure you don't want the function to raise exceptions.\n",
      "  performance hint: _common.pyx:573:36: Exception check will always require the GIL to be acquired. Declare the function as 'noexcept' if you control the definition and you're sure you don't want the function to raise exceptions.\n",
      "  performance hint: _common.pyx:577:36: Exception check will always require the GIL to be acquired. Declare the function as 'noexcept' if you control the definition and you're sure you don't want the function to raise exceptions.\n",
      "  performance hint: _common.pyx:581:36: Exception check will always require the GIL to be acquired. Declare the function as 'noexcept' if you control the definition and you're sure you don't want the function to raise exceptions.\n",
      "  performance hint: _common.pyx:585:36: Exception check will always require the GIL to be acquired. Declare the function as 'noexcept' if you control the definition and you're sure you don't want the function to raise exceptions.\n",
      "  performance hint: _common.pyx:617:31: Exception check will always require the GIL to be acquired. Declare the function as 'noexcept' if you control the definition and you're sure you don't want the function to raise exceptions.\n",
      "  performance hint: _common.pyx:652:31: Exception check will always require the GIL to be acquired. Declare the function as 'noexcept' if you control the definition and you're sure you don't want the function to raise exceptions.\n",
      "  performance hint: _common.pyx:687:63: Exception check will always require the GIL to be acquired. Declare the function as 'noexcept' if you control the definition and you're sure you don't want the function to raise exceptions.\n",
      "  performance hint: _common.pyx:727:31: Exception check will always require the GIL to be acquired. Declare the function as 'noexcept' if you control the definition and you're sure you don't want the function to raise exceptions.\n",
      "  performance hint: _common.pyx:756:31: Exception check will always require the GIL to be acquired. Declare the function as 'noexcept' if you control the definition and you're sure you don't want the function to raise exceptions.\n",
      "  performance hint: _common.pyx:874:40: Exception check will always require the GIL to be acquired. Declare the function as 'noexcept' if you control the definition and you're sure you don't want the function to raise exceptions.\n",
      "  performance hint: _common.pyx:878:40: Exception check will always require the GIL to be acquired. Declare the function as 'noexcept' if you control the definition and you're sure you don't want the function to raise exceptions.\n",
      "  performance hint: _common.pyx:882:41: Exception check will always require the GIL to be acquired. Declare the function as 'noexcept' if you control the definition and you're sure you don't want the function to raise exceptions.\n",
      "  performance hint: _common.pyx:887:40: Exception check will always require the GIL to be acquired. Declare the function as 'noexcept' if you control the definition and you're sure you don't want the function to raise exceptions.\n",
      "  performance hint: _common.pyx:891:41: Exception check will always require the GIL to be acquired. Declare the function as 'noexcept' if you control the definition and you're sure you don't want the function to raise exceptions.\n",
      "  performance hint: _common.pyx:895:38: Exception check will always require the GIL to be acquired. Declare the function as 'noexcept' if you control the definition and you're sure you don't want the function to raise exceptions.\n",
      "  performance hint: _common.pyx:930:31: Exception check will always require the GIL to be acquired. Declare the function as 'noexcept' if you control the definition and you're sure you don't want the function to raise exceptions.\n",
      "  performance hint: _common.pyx:972:32: Exception check will always require the GIL to be acquired. Declare the function as 'noexcept' if you control the definition and you're sure you don't want the function to raise exceptions.\n",
      "  performance hint: _generator.pyx:811:41: Exception check will always require the GIL to be acquired.\n",
      "  Possible solutions:\n",
      "          1. Declare the function as 'noexcept' if you control the definition and you're sure you don't want the function to raise exceptions.\n",
      "          2. Use an 'int' return type on the function to allow an error code to be returned.\n",
      "  performance hint: _generator.pyx:840:45: Exception check will always require the GIL to be acquired.\n",
      "  Possible solutions:\n",
      "          1. Declare the function as 'noexcept' if you control the definition and you're sure you don't want the function to raise exceptions.\n",
      "          2. Use an 'int' return type on the function to allow an error code to be returned.\n",
      "  \n",
      "  Error compiling Cython file:\n",
      "  ------------------------------------------------------------\n",
      "  ...\n",
      "          for i in range(1, RK_STATE_LEN):\n",
      "              self.rng_state.key[i] = val[i]\n",
      "          self.rng_state.pos = i\n",
      "  \n",
      "          self._bitgen.state = &self.rng_state\n",
      "          self._bitgen.next_uint64 = &mt19937_uint64\n",
      "                                     ^\n",
      "  ------------------------------------------------------------\n",
      "  \n",
      "  _mt19937.pyx:138:35: Cannot assign type 'uint64_t (*)(void *) except? -1 nogil' to 'uint64_t (*)(void *) noexcept nogil'. Exception values are incompatible. Suggest adding 'noexcept' to type 'uint64_t (void *) except? -1 nogil'.\n",
      "  Processing numpy/random\\_bounded_integers.pxd.in\n",
      "  Processing numpy/random\\mtrand.pyx\n",
      "  Processing numpy/random\\_bit_generator.pyx\n",
      "  Processing numpy/random\\_bounded_integers.pyx.in\n",
      "  Processing numpy/random\\_common.pyx\n",
      "  Processing numpy/random\\_generator.pyx\n",
      "  Processing numpy/random\\_mt19937.pyx\n",
      "  Traceback (most recent call last):\n",
      "    File \"C:\\Users\\SHUBHAM\\AppData\\Local\\Temp\\pip-install-pqib0r2i\\numpy_1606744b12644bea9eafb1c4440188cf\\tools\\cythonize.py\", line 238, in <module>\n",
      "      main()\n",
      "    File \"C:\\Users\\SHUBHAM\\AppData\\Local\\Temp\\pip-install-pqib0r2i\\numpy_1606744b12644bea9eafb1c4440188cf\\tools\\cythonize.py\", line 234, in main\n",
      "      find_process_files(root_dir)\n",
      "    File \"C:\\Users\\SHUBHAM\\AppData\\Local\\Temp\\pip-install-pqib0r2i\\numpy_1606744b12644bea9eafb1c4440188cf\\tools\\cythonize.py\", line 225, in find_process_files\n",
      "      process(root_dir, fromfile, tofile, function, hash_db)\n",
      "    File \"C:\\Users\\SHUBHAM\\AppData\\Local\\Temp\\pip-install-pqib0r2i\\numpy_1606744b12644bea9eafb1c4440188cf\\tools\\cythonize.py\", line 191, in process\n",
      "      processor_function(fromfile, tofile)\n",
      "    File \"C:\\Users\\SHUBHAM\\AppData\\Local\\Temp\\pip-install-pqib0r2i\\numpy_1606744b12644bea9eafb1c4440188cf\\tools\\cythonize.py\", line 80, in process_pyx\n",
      "      subprocess.check_call(\n",
      "    File \"D:\\Anaconda\\lib\\subprocess.py\", line 373, in check_call\n",
      "      raise CalledProcessError(retcode, cmd)\n",
      "  subprocess.CalledProcessError: Command '['D:\\\\Anaconda\\\\python.exe', '-m', 'cython', '-3', '--fast-fail', '-o', '_mt19937.c', '_mt19937.pyx']' returned non-zero exit status 1.\n",
      "  Cythonizing sources\n",
      "  Traceback (most recent call last):\n",
      "    File \"D:\\Anaconda\\lib\\site-packages\\pip\\_vendor\\pyproject_hooks\\_in_process\\_in_process.py\", line 353, in <module>\n",
      "      main()\n",
      "    File \"D:\\Anaconda\\lib\\site-packages\\pip\\_vendor\\pyproject_hooks\\_in_process\\_in_process.py\", line 335, in main\n",
      "      json_out['return_val'] = hook(**hook_input['kwargs'])\n",
      "    File \"D:\\Anaconda\\lib\\site-packages\\pip\\_vendor\\pyproject_hooks\\_in_process\\_in_process.py\", line 149, in prepare_metadata_for_build_wheel\n",
      "      return hook(metadata_directory, config_settings)\n",
      "    File \"C:\\Users\\SHUBHAM\\AppData\\Local\\Temp\\pip-build-env-hj09r2k_\\overlay\\Lib\\site-packages\\setuptools\\build_meta.py\", line 396, in prepare_metadata_for_build_wheel\n",
      "      self.run_setup()\n",
      "    File \"C:\\Users\\SHUBHAM\\AppData\\Local\\Temp\\pip-build-env-hj09r2k_\\overlay\\Lib\\site-packages\\setuptools\\build_meta.py\", line 507, in run_setup\n",
      "      super(_BuildMetaLegacyBackend, self).run_setup(setup_script=setup_script)\n",
      "    File \"C:\\Users\\SHUBHAM\\AppData\\Local\\Temp\\pip-build-env-hj09r2k_\\overlay\\Lib\\site-packages\\setuptools\\build_meta.py\", line 341, in run_setup\n",
      "      exec(code, locals())\n",
      "    File \"<string>\", line 488, in <module>\n",
      "    File \"<string>\", line 469, in setup_package\n",
      "    File \"<string>\", line 275, in generate_cython\n",
      "  RuntimeError: Running cythonize failed!\n",
      "  [end of output]\n",
      "  \n",
      "  note: This error originates from a subprocess, and is likely not a problem with pip.\n",
      "error: metadata-generation-failed\n",
      "\n",
      "Encountered error while generating package metadata.\n",
      "\n",
      "See above for output.\n",
      "\n",
      "note: This is an issue with the package mentioned above, not pip.\n",
      "hint: See above for details.\n"
     ]
    }
   ],
   "source": [
    "!pip install daal==2021.4.0 --quiet\n",
    "!pip install numpy==1.18.5 --quiet\n",
    "#!pip install --upgrade pip"
   ]
  },
  {
   "cell_type": "code",
   "execution_count": 26,
   "id": "743c8a46",
   "metadata": {},
   "outputs": [],
   "source": [
    "!pip install pyLDAvis --quiet"
   ]
  },
  {
   "cell_type": "code",
   "execution_count": 27,
   "id": "2cccbd8e",
   "metadata": {},
   "outputs": [],
   "source": [
    "import gensim\n",
    "import gensim.corpora as corpora\n",
    "from gensim.corpora import Dictionary\n",
    "from gensim.models.coherencemodel import CoherenceModel\n",
    "from gensim.models.ldamodel import LdaModel\n",
    "import pyLDAvis\n",
    "import pyLDAvis.gensim"
   ]
  },
  {
   "cell_type": "code",
   "execution_count": 28,
   "id": "30c9ef42",
   "metadata": {},
   "outputs": [],
   "source": [
    "pyLDAvis.enable_notebook()"
   ]
  },
  {
   "cell_type": "code",
   "execution_count": 29,
   "id": "01af2527",
   "metadata": {},
   "outputs": [],
   "source": [
    "vis = pyLDAvis.gensim.prepare(topic_model=lda_model,corpus=corpus,dictionary=dictionary)"
   ]
  },
  {
   "cell_type": "code",
   "execution_count": 30,
   "id": "ac9f4979",
   "metadata": {},
   "outputs": [],
   "source": [
    "pyLDAvis.save_html(vis, 'lda_assignment3.html')"
   ]
  },
  {
   "cell_type": "code",
   "execution_count": 31,
   "id": "9263a70e",
   "metadata": {},
   "outputs": [
    {
     "data": {
      "text/html": [
       "\n",
       "<link rel=\"stylesheet\" type=\"text/css\" href=\"https://cdn.jsdelivr.net/gh/bmabey/pyLDAvis@3.4.0/pyLDAvis/js/ldavis.v1.0.0.css\">\n",
       "\n",
       "\n",
       "<div id=\"ldavis_el2726013851663964322478793266\" style=\"background-color:white;\"></div>\n",
       "<script type=\"text/javascript\">\n",
       "\n",
       "var ldavis_el2726013851663964322478793266_data = {\"mdsDat\": {\"x\": [-0.24098738822000315, -0.2044420920960416, 0.013135766458379786, 0.12965701583686362, 0.30263669802080156], \"y\": [-0.014883126603769207, -0.036504452235333565, 0.22294243150316154, -0.21933548236527153, 0.04778062970121273], \"topics\": [1, 2, 3, 4, 5], \"cluster\": [1, 1, 1, 1, 1], \"Freq\": [45.636110392501045, 29.761184577880485, 11.372327565585968, 8.659944030537137, 4.570433433495363]}, \"tinfo\": {\"Term\": [\"https\", \"joebiden\", \"vote\", \"'\", \"biden\", \"president\", \"election2020\", \"kamalaharris\", \"trump\", \"congratulation\", \"usa\", \"donaldtrump\", \"america\", \"win\", \"get\", \"\\\"\", \"election\", \"state\", \"not\", \"elections2020\", \"say\", \"uselection2020\", \"twitter\", \"count\", \"lead\", \"bidenharis2020\", \"uselection\", \"know\", \"united\", \"bidenharris2020\", \"'\", \"\\\"\", \"not\", \"say\", \"know\", \"think\", \"one\", \"want\", \"man\", \"even\", \"way\", \"thing\", \"really\", \"lie\", \"keep\", \"debate\", \"supporter\", \"tell\", \"never\", \"guy\", \"bad\", \"believe\", \"get\", \"care\", \"nt\", \"hear\", \"debates2020\", \"can\", \"to\", \"must\", \"last\", \"year\", \"everyone\", \"would\", \"people\", \"country\", \"like\", \"give\", \"go\", \"see\", \"need\", \"let\", \"right\", \"amp\", \"time\", \"biden\", \"realdonaldtrump\", \"trump\", \"make\", \"vote\", \"well\", \"joebiden\", \"https\", \"good\", \"win\", \"kamalaharris\", \"congratulation\", \"usa\", \"donaldtrump\", \"uselection2020\", \"bidenharis2020\", \"uselection\", \"united\", \"electionday\", \"states\", \"usaelection2020\", \"uselectionresults2020\", \"election2020result\", \"usaelections2020\", \"byebyetrump\", \"46th\", \"presidentelect\", \"joebidenkamalaharris2020\", \"vice\", \"kamala\", \"india\", \"presidentelectjoe\", \"joebiden2020\", \"trumpvsbiden\", \"uselections2020\", \"americadecides2020\", \"kamalaharrisvp\", \"uspresidentialelections2020\", \"presidentialelection\", \"congrat\", \"election2020\", \"president\", \"https\", \"joebiden\", \"elections2020\", \"america\", \"new\", \"bidenharris2020\", \"biden2020\", \"election\", \"harris\", \"biden\", \"joe\", \"trump\", \"elect\", \"2020\", \"win\", \"trump2020\", \"we\", \"2020election\", \"state\", \"count\", \"lead\", \"ballot\", \"georgia\", \"blue\", \"pennsylvania\", \"michigan\", \"nevada\", \"poll\", \"electoral\", \"counteveryvote\", \"wisconsin\", \"florida\", \"red\", \"texas\", \"arizona\", \"bidenharris2020tosaveamerica\", \"pa\", \"trumptantrum\", \"mail\", \"270\", \"donaldjtrumpjr\", \"projectlincoln\", \"college\", \"popular\", \"county\", \"pick\", \"rather\", \"congratulationsjoebiden\", \"vote\", \"biden\", \"win\", \"trump\", \"electionresults2020\", \"election2020\", \"https\", \"call\", \"election\", \"elections2020\", \"voter\", \"2020election\", \"still\", \"twitter\", \"via\", \"youtube\", \"hunter\", \"china\", \"hunterbiden\", \"corruption\", \"story\", \"email\", \"sound\", \"facebook\", \"abc\", \"na\", \"nypost\", \"nytime\", \"bidencrimefamiily\", \"town\", \"fbi\", \"evidence\", \"grow\", \"account\", \"design\", \"chinese\", \"censorship\", \"wan\", \"follower\", \"hall\", \"nbcnew\", \"hunterbidenemail\", \"laptop\", \"click\", \"link\", \"foxnew\", \"medium\", \"https\", \"news\", \"biden\", \"cover\", \"cnn\", \"business\", \"joebiden\", \"trump2020\", \"video\", \"post\", \"family\", \"joe\", \"word\", \"bye\", \"bidenharristosaveamerica\", \"fire\", \"cry\", \"forget\", \"orange\", \"yourefire\", \"I\", \"electionresult\", \"dog\", \"hillaryclinton\", \"dumptrump2020\", \"makeamericagreatagain\", \"germany\", \"empathy\", \"wonderful\", \"virus\", \"bitcoin\", \"trumpcrimefamily\", \"okay\", \"47\", \"compassion\", \"byedon2020\", \"blame\", \"votebluetosaveamerica\", \"wtf\", \"yo\", \"omg\", \"weird\", \"corruptjoebiden\", \"votehimout\"], \"Freq\": [40005.0, 38023.0, 12586.0, 17476.0, 53050.0, 9954.0, 9079.0, 6486.0, 26048.0, 4209.0, 3881.0, 3806.0, 6629.0, 6832.0, 5231.0, 5111.0, 8406.0, 1674.0, 4555.0, 3779.0, 4066.0, 2610.0, 1223.0, 1358.0, 1344.0, 2295.0, 2255.0, 3453.0, 2206.0, 5766.0, 17475.344494224522, 5110.885518251344, 4554.688045519878, 4065.3709201964507, 3452.684372288981, 2870.8988670126823, 2839.6454489630555, 2683.6645686771053, 1820.858906659324, 1713.873546742282, 1613.0390391835192, 1592.6688246605422, 1465.4435530731032, 1176.3991235831306, 1160.4846835511603, 1123.029584890448, 1102.856345691313, 1084.6202840174549, 1076.1110514304705, 1060.062759440986, 1053.189537474871, 1019.3246119624894, 5226.963051240796, 928.6819296138403, 917.6472553587531, 899.166178690695, 905.8628326863387, 844.0364107044495, 836.5137025353955, 838.4607034761149, 1225.2573696433378, 3308.1207090685148, 991.7880574319655, 2636.5829031439075, 4566.335193883592, 2574.9169514065384, 4075.8435683344746, 1493.91130401071, 5168.6725518032445, 2946.716621167254, 2749.31464421049, 2153.4594729454634, 2431.7605082924397, 3541.916222049454, 2675.9924178395763, 25328.282680976212, 4577.053490784554, 13545.029185130103, 2923.3830307780563, 7068.975890844793, 2452.996577665588, 12646.209234301103, 8404.102014656628, 2277.978552020656, 2439.6144240040935, 6485.356169518627, 4208.715614020761, 3880.9141658531294, 3805.899337563426, 2609.7353047316838, 2294.54301617171, 2254.3748990672984, 2205.422858162256, 2168.0958110441775, 2090.931788118319, 2078.047366274569, 1647.2609748543173, 1645.267348845287, 1637.8772604275352, 1611.2575009867815, 1512.8761326448064, 1461.514183261977, 1192.8622912412827, 1183.1754577094705, 1003.7205160758065, 998.607416713729, 978.3007511940168, 968.9210871725105, 963.2564714022627, 917.5201216409016, 906.4243257024254, 759.4533863969289, 601.233438373798, 563.4411319476576, 497.71127912347174, 7796.795397791175, 8486.640585650977, 25444.56526530961, 24079.788316492948, 3091.5146453480033, 4934.181884425529, 2226.9318327582328, 4025.1452953041885, 1789.9846922521106, 5326.25648609136, 1651.1971421691035, 18288.63986930019, 3259.9929886841655, 9393.619899537523, 1820.7031311866765, 1826.8933077067963, 2732.9015162631295, 2045.0056479383193, 1838.9638460741012, 1691.7162392898656, 1673.2538082949604, 1357.7609935200076, 1343.8998252299623, 1053.4906105734237, 987.0268594912694, 962.3910928125688, 953.2596874836371, 922.7747953500607, 909.2883061587515, 883.0397958092311, 587.4206401727806, 578.9555205383978, 503.77000948488285, 500.7097195539997, 486.2039339104724, 448.1164231937764, 432.0695320682622, 419.60704571812, 410.08696846961766, 410.774638226706, 386.41601152543825, 356.08690402472024, 334.6203375392903, 314.6672067592082, 291.76680255602224, 262.5681128251208, 252.0805567825927, 246.96378019331675, 237.91844808509455, 243.01616221980237, 5158.227051795402, 6689.651902339055, 1659.936938624829, 3109.7417599997575, 601.9140439071269, 1281.8188277868248, 2262.6458252937664, 614.2950054929936, 947.7877680477384, 687.0214125274649, 480.66394556058157, 535.7230738649899, 432.3022930089624, 1223.1032336712308, 1066.6098372748945, 902.1534909919927, 846.9162206757392, 962.7316575095756, 682.8140772564559, 624.5288727780389, 421.7832594754841, 375.88793935660567, 352.85169250192627, 327.366163873553, 328.2449121704049, 312.9366665691371, 284.6064266493537, 280.1327814632783, 261.3874259336276, 250.1812324150776, 238.87757658474015, 222.00844271566956, 219.21207773390722, 206.44679991433236, 203.50017652641594, 199.0558157343685, 198.33471008101495, 192.67256347587661, 188.2095256144553, 181.32499909416498, 178.70895863152182, 174.68307002616703, 171.43372898647337, 229.2490121456919, 287.47064483485553, 547.734536206315, 447.57233558035244, 3894.2687839499704, 644.085700670171, 2743.969704760866, 237.62074090413023, 480.97973175853593, 297.63566088787127, 1297.0585594865627, 509.28190195525514, 306.61910275425123, 282.2985999239378, 322.6785922805087, 330.4280246592418, 671.2400996941057, 553.6410003465038, 540.1508946883861, 538.3998396520248, 467.7048960635298, 372.2255291380627, 328.46888020834285, 301.5438638123489, 273.73098101536044, 262.83678842528445, 236.72103517680418, 228.03078032192403, 221.2589170808252, 213.78094476808243, 210.21442369597963, 171.77542704066724, 172.5805518385952, 168.89398054553493, 164.7208865953514, 165.2516743598532, 150.65973947170033, 144.47689285875262, 138.76088000658635, 132.877860629421, 128.60196804443643, 126.67006967004406, 126.09343000767844, 126.32935401703594, 125.16258062601754, 125.51666340207399, 128.2491293121205, 143.997758298129], \"Total\": [40005.0, 38023.0, 12586.0, 17476.0, 53050.0, 9954.0, 9079.0, 6486.0, 26048.0, 4209.0, 3881.0, 3806.0, 6629.0, 6832.0, 5231.0, 5111.0, 8406.0, 1674.0, 4555.0, 3779.0, 4066.0, 2610.0, 1223.0, 1358.0, 1344.0, 2295.0, 2255.0, 3453.0, 2206.0, 5766.0, 17476.134816605274, 5111.671445869492, 4555.477050970961, 4066.1600688989543, 3453.474309349954, 2871.688144013019, 2840.4349553157767, 2684.454185504027, 1821.6484222589515, 1714.6638548849057, 1613.8331762269179, 1593.457892608436, 1466.231726378457, 1177.1890713866674, 1161.2794414747495, 1123.8174802023443, 1103.6485075188564, 1085.4090007721202, 1076.8987818292148, 1060.8532897432117, 1053.9785282264302, 1020.1167575751352, 5231.065247952644, 929.468430051528, 918.43550010606, 899.9523449384411, 906.6560745769226, 844.8267640244962, 837.3015743185827, 839.2525084698826, 1227.4597246539513, 3353.0039893098333, 993.2911655263499, 2681.026562109415, 4817.354762995204, 2745.001707733547, 4488.75947119561, 1548.7972040119864, 6106.221664191964, 3277.0323020716337, 3103.8908348600853, 2395.388822362984, 2788.151277840396, 4379.52773453014, 3174.187199102969, 53050.73442682009, 6536.145234800463, 26048.787319246676, 3791.0253061712565, 12586.618916377465, 3045.0214006252286, 38023.457275397006, 40005.77236561833, 3560.208939105809, 6832.845432144203, 6486.171243341349, 4209.523828344974, 3881.7342585215956, 3806.7192060843804, 2610.551225552412, 2295.357206048422, 2255.187087376958, 2206.2333606091115, 2168.9130584285112, 2091.743972085095, 2078.8580320962783, 1648.0712972049557, 1646.0802874171825, 1638.6909862768887, 1612.0713847438726, 1513.6837180368366, 1462.3247950104203, 1193.6756848996367, 1183.9826504789671, 1004.5363082100118, 999.4213598948103, 979.1126833863655, 969.7354397419539, 964.0769765581515, 918.3349807873071, 907.2394978913372, 760.2672775560251, 602.0424690475378, 564.2573887221392, 498.524390713143, 9079.293722759474, 9954.859138234162, 40005.77236561833, 38023.457275397006, 3779.1443112028182, 6629.828959569284, 2747.3848986283074, 5766.740462050768, 2101.2035897419582, 8406.181846392044, 1944.354150538882, 53050.73442682009, 5193.584832836634, 26048.787319246676, 2273.7231114187794, 2296.4769712977222, 6832.845432144203, 3375.706386227509, 4021.6536501225232, 2573.20539680508, 1674.043223802049, 1358.5477829378328, 1344.6907412925395, 1054.2787236980548, 987.8117415729785, 963.1803968727058, 954.0464378005412, 923.5601106092406, 910.0755397759274, 883.836801933578, 588.2048222283875, 579.7440574784802, 504.5549240047612, 501.49844348963495, 486.99391004748475, 448.90765178126946, 432.8542993562787, 420.40481658641846, 410.872096222983, 411.5806028821003, 387.20265506329866, 356.87205309377475, 335.42910475435826, 315.4683218761363, 292.55599835066045, 263.35822197961744, 252.86588582392326, 247.76252790060315, 238.7285233842503, 243.85891201816708, 12586.618916377465, 53050.73442682009, 6832.845432144203, 26048.787319246676, 1583.0353586063252, 9079.293722759474, 40005.77236561833, 1869.2316192457463, 8406.181846392044, 3779.1443112028182, 1003.1869224547805, 2573.20539680508, 1699.4720647674587, 1223.89698366869, 1067.4025431539392, 902.9447930044321, 847.7062796774479, 963.7281290678311, 683.6037705898195, 625.3243452350627, 422.574984790058, 376.67735996635815, 353.6559189211664, 328.15532986289634, 329.0373286845265, 313.72986657905483, 285.3994294652431, 280.92970346588544, 262.1783450370642, 250.97400506283356, 239.66750009717603, 222.80431687369963, 220.01645318134044, 207.2435339931885, 204.29676241738946, 199.84485439436995, 199.12288921402697, 193.47080106867597, 189.0109321276997, 182.11415580401882, 179.5079319511763, 175.47057581159353, 172.2247707247162, 231.48164729441982, 320.3940184338912, 787.6854098093542, 862.4338254521737, 40005.77236561833, 1699.8840693840132, 53050.73442682009, 297.50536482487087, 1477.4688047177285, 509.73371692336724, 38023.457275397006, 3375.706386227509, 652.1808040233354, 520.9821047790049, 1043.908916640132, 5193.584832836634, 672.0543242277922, 554.4466839386861, 540.9636502170333, 539.2102304371646, 468.5142119591925, 373.03852887176885, 329.2807111182973, 302.3539883604177, 274.54439979672054, 263.6534817323832, 237.5286610847064, 228.85170394810888, 222.07274639669038, 214.60296737697016, 211.0388850840871, 172.58429977878185, 173.39449957803433, 169.70832074172398, 165.52808962902768, 166.06755704326633, 151.4736696333932, 145.287590286312, 139.5680810620888, 133.68846769577496, 129.4153742519549, 127.4801921201534, 126.90341612056997, 127.14115320956951, 125.97109906121744, 126.33102258761151, 129.08944047134125, 423.968390139391], \"Category\": [\"Default\", \"Default\", \"Default\", \"Default\", \"Default\", \"Default\", \"Default\", \"Default\", \"Default\", \"Default\", \"Default\", \"Default\", \"Default\", \"Default\", \"Default\", \"Default\", \"Default\", \"Default\", \"Default\", \"Default\", \"Default\", \"Default\", \"Default\", \"Default\", \"Default\", \"Default\", \"Default\", \"Default\", \"Default\", \"Default\", \"Topic1\", \"Topic1\", \"Topic1\", \"Topic1\", \"Topic1\", \"Topic1\", \"Topic1\", \"Topic1\", \"Topic1\", \"Topic1\", \"Topic1\", \"Topic1\", \"Topic1\", \"Topic1\", \"Topic1\", \"Topic1\", \"Topic1\", \"Topic1\", \"Topic1\", \"Topic1\", \"Topic1\", \"Topic1\", \"Topic1\", \"Topic1\", \"Topic1\", \"Topic1\", \"Topic1\", \"Topic1\", \"Topic1\", \"Topic1\", \"Topic1\", \"Topic1\", \"Topic1\", \"Topic1\", \"Topic1\", \"Topic1\", \"Topic1\", \"Topic1\", \"Topic1\", \"Topic1\", \"Topic1\", \"Topic1\", \"Topic1\", \"Topic1\", \"Topic1\", \"Topic1\", \"Topic1\", \"Topic1\", \"Topic1\", \"Topic1\", \"Topic1\", \"Topic1\", \"Topic1\", \"Topic1\", \"Topic1\", \"Topic2\", \"Topic2\", \"Topic2\", \"Topic2\", \"Topic2\", \"Topic2\", \"Topic2\", \"Topic2\", \"Topic2\", \"Topic2\", \"Topic2\", \"Topic2\", \"Topic2\", \"Topic2\", \"Topic2\", \"Topic2\", \"Topic2\", \"Topic2\", \"Topic2\", \"Topic2\", \"Topic2\", \"Topic2\", \"Topic2\", \"Topic2\", \"Topic2\", \"Topic2\", \"Topic2\", \"Topic2\", \"Topic2\", \"Topic2\", \"Topic2\", \"Topic2\", \"Topic2\", \"Topic2\", \"Topic2\", \"Topic2\", \"Topic2\", \"Topic2\", \"Topic2\", \"Topic2\", \"Topic2\", \"Topic2\", \"Topic2\", \"Topic2\", \"Topic2\", \"Topic2\", \"Topic2\", \"Topic2\", \"Topic2\", \"Topic2\", \"Topic3\", \"Topic3\", \"Topic3\", \"Topic3\", \"Topic3\", \"Topic3\", \"Topic3\", \"Topic3\", \"Topic3\", \"Topic3\", \"Topic3\", \"Topic3\", \"Topic3\", \"Topic3\", \"Topic3\", \"Topic3\", \"Topic3\", \"Topic3\", \"Topic3\", \"Topic3\", \"Topic3\", \"Topic3\", \"Topic3\", \"Topic3\", \"Topic3\", \"Topic3\", \"Topic3\", \"Topic3\", \"Topic3\", \"Topic3\", \"Topic3\", \"Topic3\", \"Topic3\", \"Topic3\", \"Topic3\", \"Topic3\", \"Topic3\", \"Topic3\", \"Topic3\", \"Topic3\", \"Topic3\", \"Topic3\", \"Topic3\", \"Topic4\", \"Topic4\", \"Topic4\", \"Topic4\", \"Topic4\", \"Topic4\", \"Topic4\", \"Topic4\", \"Topic4\", \"Topic4\", \"Topic4\", \"Topic4\", \"Topic4\", \"Topic4\", \"Topic4\", \"Topic4\", \"Topic4\", \"Topic4\", \"Topic4\", \"Topic4\", \"Topic4\", \"Topic4\", \"Topic4\", \"Topic4\", \"Topic4\", \"Topic4\", \"Topic4\", \"Topic4\", \"Topic4\", \"Topic4\", \"Topic4\", \"Topic4\", \"Topic4\", \"Topic4\", \"Topic4\", \"Topic4\", \"Topic4\", \"Topic4\", \"Topic4\", \"Topic4\", \"Topic4\", \"Topic4\", \"Topic4\", \"Topic4\", \"Topic4\", \"Topic4\", \"Topic5\", \"Topic5\", \"Topic5\", \"Topic5\", \"Topic5\", \"Topic5\", \"Topic5\", \"Topic5\", \"Topic5\", \"Topic5\", \"Topic5\", \"Topic5\", \"Topic5\", \"Topic5\", \"Topic5\", \"Topic5\", \"Topic5\", \"Topic5\", \"Topic5\", \"Topic5\", \"Topic5\", \"Topic5\", \"Topic5\", \"Topic5\", \"Topic5\", \"Topic5\", \"Topic5\", \"Topic5\", \"Topic5\", \"Topic5\", \"Topic5\", \"Topic5\"], \"logprob\": [30.0, 29.0, 28.0, 27.0, 26.0, 25.0, 24.0, 23.0, 22.0, 21.0, 20.0, 19.0, 18.0, 17.0, 16.0, 15.0, 14.0, 13.0, 12.0, 11.0, 10.0, 9.0, 8.0, 7.0, 6.0, 5.0, 4.0, 3.0, 2.0, 1.0, -3.4389, -4.6683, -4.7835, -4.8972, -5.0605, -5.2451, -5.256, -5.3125, -5.7004, -5.7609, -5.8216, -5.8343, -5.9175, -6.1372, -6.1509, -6.1837, -6.2018, -6.2185, -6.2263, -6.2414, -6.2479, -6.2805, -4.6459, -6.3737, -6.3856, -6.406, -6.3986, -6.4692, -6.4782, -6.4759, -6.0965, -5.1033, -6.3079, -5.3302, -4.781, -5.3539, -4.8946, -5.8983, -4.6571, -5.219, -5.2883, -5.5326, -5.4111, -5.035, -5.3154, -3.0678, -4.7786, -3.6937, -5.2269, -4.344, -5.4024, -3.7623, -4.171, -5.4764, -5.4079, -4.0026, -4.435, -4.5161, -4.5356, -4.9129, -5.0417, -5.0593, -5.0813, -5.0983, -5.1346, -5.1408, -5.3731, -5.3743, -5.3788, -5.3952, -5.4582, -5.4927, -5.6958, -5.704, -5.8685, -5.8736, -5.8941, -5.9038, -5.9096, -5.9583, -5.9704, -6.1474, -6.381, -6.4459, -6.5699, -3.8185, -3.7337, -2.6357, -2.6908, -4.7435, -4.276, -5.0716, -4.4796, -5.29, -4.1995, -5.3707, -2.9659, -4.6905, -3.6322, -5.273, -5.2696, -4.8668, -5.1568, -5.263, -5.3465, -4.3954, -4.6043, -4.6146, -4.8581, -4.9232, -4.9485, -4.958, -4.9905, -5.0053, -5.0346, -5.4422, -5.4567, -5.5958, -5.6019, -5.6313, -5.7129, -5.7493, -5.7786, -5.8016, -5.7999, -5.861, -5.9428, -6.0049, -6.0664, -6.142, -6.2474, -6.2882, -6.3087, -6.346, -6.3248, -3.2696, -3.0096, -4.4034, -3.7756, -5.4178, -4.6619, -4.0936, -5.3975, -4.9638, -5.2856, -5.6428, -5.5343, -5.7488, -4.4363, -4.5732, -4.7407, -4.8039, -4.6757, -5.0192, -5.1085, -5.501, -5.6162, -5.6794, -5.7544, -5.7517, -5.7995, -5.8943, -5.9102, -5.9795, -6.0233, -6.0695, -6.1427, -6.1554, -6.2154, -6.2298, -6.2519, -6.2555, -6.2845, -6.3079, -6.3452, -6.3597, -6.3825, -6.4013, -6.1106, -5.8843, -5.2397, -5.4416, -3.2782, -5.0776, -3.6283, -6.0748, -5.3696, -5.8496, -4.3776, -5.3125, -5.8198, -5.9025, -5.7688, -5.7451, -4.3972, -4.5898, -4.6145, -4.6178, -4.7585, -4.9869, -5.1119, -5.1974, -5.2942, -5.3348, -5.4395, -5.4769, -5.507, -5.5414, -5.5582, -5.7602, -5.7555, -5.7771, -5.8021, -5.7989, -5.8913, -5.9332, -5.9736, -6.0169, -6.0496, -6.0648, -6.0693, -6.0675, -6.0767, -6.0739, -6.0524, -5.9366], \"loglift\": [30.0, 29.0, 28.0, 27.0, 26.0, 25.0, 24.0, 23.0, 22.0, 21.0, 20.0, 19.0, 18.0, 17.0, 16.0, 15.0, 14.0, 13.0, 12.0, 11.0, 10.0, 9.0, 8.0, 7.0, 6.0, 5.0, 4.0, 3.0, 2.0, 1.0, 0.7844, 0.7843, 0.7843, 0.7843, 0.7842, 0.7842, 0.7842, 0.7842, 0.784, 0.784, 0.784, 0.784, 0.7839, 0.7838, 0.7838, 0.7838, 0.7838, 0.7837, 0.7837, 0.7837, 0.7837, 0.7837, 0.7837, 0.7836, 0.7836, 0.7836, 0.7836, 0.7835, 0.7835, 0.7835, 0.7827, 0.771, 0.783, 0.7678, 0.731, 0.7205, 0.688, 0.7484, 0.6178, 0.6782, 0.6632, 0.678, 0.6477, 0.5722, 0.6137, 0.0451, 0.4282, 0.1305, 0.5246, 0.2076, 0.5683, -0.3164, -0.7758, 0.3379, -0.2454, 1.2118, 1.2118, 1.2118, 1.2117, 1.2117, 1.2116, 1.2116, 1.2116, 1.2116, 1.2116, 1.2116, 1.2115, 1.2115, 1.2115, 1.2115, 1.2114, 1.2114, 1.2113, 1.2113, 1.2112, 1.2112, 1.2111, 1.2111, 1.2111, 1.2111, 1.2111, 1.2109, 1.2106, 1.2105, 1.2103, 1.0597, 1.0524, 0.7594, 0.7551, 1.0111, 0.9166, 1.0019, 0.8524, 1.0517, 0.7556, 1.0485, 0.147, 0.7463, 0.192, 0.9898, 0.9832, 0.2956, 0.7108, 0.4295, 0.7926, 2.1735, 2.1734, 2.1734, 2.1732, 2.1732, 2.1732, 2.1732, 2.1731, 2.1731, 2.1731, 2.1727, 2.1726, 2.1724, 2.1724, 2.1724, 2.1722, 2.1722, 2.1721, 2.1721, 2.172, 2.172, 2.1718, 2.1716, 2.1714, 2.1713, 2.171, 2.1709, 2.1708, 2.1706, 2.1705, 1.2819, 0.1033, 0.759, 0.0486, 1.207, 0.2163, -0.6985, 1.0612, -0.0086, 0.4691, 1.4382, 0.6047, 0.805, 2.4458, 2.4457, 2.4456, 2.4455, 2.4454, 2.4453, 2.4452, 2.4446, 2.4444, 2.4442, 2.4441, 2.4441, 2.4439, 2.4437, 2.4436, 2.4434, 2.4433, 2.4432, 2.4429, 2.4428, 2.4426, 2.4426, 2.4425, 2.4425, 2.4423, 2.4422, 2.4421, 2.442, 2.442, 2.4419, 2.4368, 2.338, 2.0832, 1.7905, 0.1169, 1.476, -0.5154, 2.2217, 1.3242, 1.9084, -0.9316, 0.5551, 1.6917, 1.8337, 1.2724, -0.3083, 3.0843, 3.0841, 3.0841, 3.0841, 3.0838, 3.0834, 3.0831, 3.0829, 3.0826, 3.0825, 3.0822, 3.082, 3.0819, 3.0817, 3.0816, 3.0809, 3.0809, 3.0808, 3.0807, 3.0806, 3.0802, 3.08, 3.0798, 3.0795, 3.0793, 3.0792, 3.0792, 3.0792, 3.0791, 3.0791, 3.079, 2.0057]}, \"token.table\": {\"Topic\": [1, 1, 1, 2, 1, 2, 3, 3, 2, 5, 5, 4, 4, 1, 2, 2, 1, 2, 3, 4, 3, 1, 3, 1, 1, 2, 3, 4, 2, 3, 4, 2, 1, 2, 3, 3, 5, 5, 5, 3, 1, 4, 5, 2, 5, 1, 2, 3, 1, 1, 4, 4, 4, 2, 4, 1, 2, 3, 4, 3, 5, 2, 2, 3, 4, 5, 3, 3, 1, 2, 3, 1, 4, 5, 1, 1, 4, 5, 3, 2, 5, 1, 2, 1, 2, 3, 2, 3, 2, 2, 5, 2, 3, 2, 3, 3, 4, 5, 1, 1, 2, 4, 4, 1, 4, 4, 5, 3, 4, 5, 3, 4, 3, 5, 1, 3, 1, 3, 1, 2, 3, 1, 2, 4, 1, 4, 1, 2, 1, 5, 1, 2, 3, 4, 4, 4, 4, 2, 1, 2, 4, 1, 2, 4, 2, 2, 2, 2, 2, 1, 1, 4, 1, 2, 3, 1, 2, 1, 1, 2, 2, 4, 3, 1, 2, 5, 1, 1, 4, 3, 1, 4, 4, 1, 3, 3, 1, 1, 2, 4, 1, 2, 3, 4, 1, 1, 4, 4, 5, 5, 1, 5, 3, 3, 1, 2, 3, 3, 3, 1, 4, 1, 2, 2, 2, 2, 3, 3, 1, 2, 3, 1, 3, 1, 2, 1, 1, 2, 4, 3, 2, 1, 3, 4, 1, 1, 3, 1, 1, 1, 2, 1, 4, 1, 2, 3, 1, 2, 4, 5, 3, 2, 4, 2, 2, 2, 2, 2, 2, 2, 2, 2, 4, 2, 1, 2, 4, 5, 1, 2, 3, 5, 2, 3, 5, 1, 3, 4, 1, 1, 1, 2, 5, 1, 2, 1, 2, 3, 3, 5, 5, 1, 3, 5, 1, 2, 5, 5, 4], \"Freq\": [0.9998686445565599, 0.999935064783078, 0.20422586677843826, 0.7955664362563043, 0.13407402317294834, 0.6575456440829813, 0.2083005113643487, 0.9975563984733049, 0.9995483085213315, 0.991137644421147, 0.998017079215152, 0.9968473829742245, 0.9939996487744251, 0.2556627041718008, 0.7442122609933128, 0.9986337699204916, 0.8087630024747418, 0.15983458546931656, 0.028541890262377956, 0.0027400214651882838, 0.9980263581589713, 0.9990715861848943, 0.9987871104013467, 0.9989052649445835, 0.4774297712115233, 0.3447454629535514, 0.12610569999230462, 0.05172407186530401, 0.8518927003260184, 0.14801040771027468, 0.9955055592524331, 0.9998443788846978, 0.24467894979588178, 0.6979679467954814, 0.057224701227952514, 0.999037079095084, 0.9982186414620525, 0.9968096675904905, 0.9967903793938253, 0.9987744799660184, 0.4159034275377782, 0.5846189688974429, 0.999194360879728, 0.9993353986963531, 0.9948502087903225, 0.5547734102734898, 0.11609048218837732, 0.3284772168832427, 0.9990213804063713, 0.9994960237094852, 0.9943608230150778, 0.9992444663117436, 0.9957724485980374, 0.008639993811069672, 0.9892792913674775, 0.10897015184747617, 0.3418007868507793, 0.22335496962526172, 0.3255567890598512, 0.9980995147807771, 0.9959297207659101, 0.9989481142288889, 0.9998755611403249, 0.9964778321568863, 0.999481316795781, 0.9915605763928994, 0.9995967878754708, 0.9987165759288394, 0.9380686331616488, 0.061566446215269376, 0.9965757111873675, 0.1983157514982322, 0.7999855738403264, 0.998902462409748, 0.9992725863258533, 0.9992763798806192, 0.9985473953973721, 0.9977743271810138, 0.9987207289162564, 0.999811069310489, 0.995169391948825, 0.19879289511111875, 0.80088907521537, 0.2536228740893893, 0.6335813449343751, 0.11277414851629508, 0.8587672387396069, 0.14120041042249276, 0.9993437213084682, 0.9995790248830109, 0.997521437122357, 0.619695570706427, 0.38028209333870444, 0.8181746303876617, 0.18178718340113958, 0.9979516961050693, 0.9982017502553946, 0.9966144094246648, 0.9996128367183956, 0.9987001137519775, 0.0010067541469273968, 0.9963900301170755, 0.9964793201336116, 0.6906732843326706, 0.30941396787718806, 0.9972148910598835, 0.9977555499342374, 0.9990060916517176, 0.9946514621333294, 0.9972160278593479, 0.3034206258280776, 0.6957092173798599, 0.9991782426359036, 0.9950772812144398, 0.9992228642236425, 0.0007646626089333403, 0.9646195099848835, 0.034865765421140366, 0.8465136518564321, 0.11070675733312983, 0.042743289443708414, 0.639850087161499, 0.3600912255228454, 0.9953801037756814, 0.999195657164415, 0.9938821021402762, 0.1506927119829453, 0.8491251449960501, 0.9989417829246211, 0.9962783587213229, 0.2100696850243178, 0.6360332145934992, 0.0565668368883902, 0.09733595353221008, 0.9991668344397346, 0.9991167828268434, 0.9973182067168982, 0.9995783961482926, 0.30865000796077746, 0.6276974584854239, 0.06353992677919935, 0.33258417056627215, 0.6332932806607492, 0.034110522633596, 0.9992416078532207, 0.9994339459970708, 0.9994661136629621, 0.9998194245422443, 0.9983331157430596, 0.9988982484068393, 0.9998626573394016, 0.9928885332837872, 0.9979960852445527, 0.001629381363664576, 0.9994863195890858, 0.8988102390308919, 0.1006099710201788, 0.998989906196405, 0.9080459815580921, 0.09178482443619576, 0.09987702066479981, 0.8957720290874233, 0.9968939906594854, 0.771031518898533, 0.2286980249350079, 0.997190312024386, 0.9996440464301297, 0.48003683040022227, 0.5194601449741536, 0.9993935309647889, 0.9985075904364394, 0.9976735827321339, 0.9971704205733124, 0.885662591327545, 0.11405040281191375, 0.9988181862615578, 0.9991653980444771, 0.1503247689125027, 0.8105890081553112, 0.03894612657055155, 0.05588616406907392, 0.5453313062319108, 0.019413088571362522, 0.37884936484719584, 0.9998952796895643, 0.9995258239625867, 0.9986004545769713, 0.9966906188472935, 0.9968729242875042, 0.992291096382786, 0.9998468701721324, 0.9961105795904419, 0.9978774508393248, 0.9989031584217707, 0.9478230739977881, 0.051895700503602066, 0.9969223437173313, 0.9990532166891587, 0.9986397919270386, 0.4568295106814793, 0.5412853866057864, 0.14746567275490355, 0.8525484772962305, 0.9997778913333559, 0.9988635798460733, 0.997771604329388, 0.9985154709881767, 0.9969483186427719, 0.7002598375003409, 0.25198338482915916, 0.047734557417545634, 0.9991599374394254, 0.9979590914239814, 0.8722625703020469, 0.12768317229750356, 0.999714701615456, 0.899289274059643, 0.1007008688292101, 0.9981453189779284, 0.9993768238554321, 0.9996443292797669, 0.7455256407367693, 0.2541965878439498, 0.9986393307442378, 0.9994123966874976, 0.9996231828077441, 0.9979780879705037, 0.9997126421660968, 0.9997603695183777, 0.8430504668269857, 0.15689055772789195, 0.9996398259267241, 0.9961190998143824, 0.5199858186869222, 0.3606309915647801, 0.11939135445672411, 0.24320835584207942, 0.6057991323959225, 0.15078325593619785, 0.9935715496616344, 0.9985893337100081, 0.9988828936025457, 0.9992671085224827, 0.9994409654793857, 0.9998108426613739, 0.9995872579642137, 0.9995783303364238, 0.9994736191140847, 0.9997888470653185, 0.9993499691386091, 0.999635230287079, 0.9982684459965308, 0.9996228759650977, 0.9991700465555221, 0.2514640096554145, 0.27753040090018305, 0.47072835953787956, 0.9958262462404424, 0.5616281899821368, 0.02852235396853687, 0.40980028348109515, 0.9962332020985597, 0.3089852994864316, 0.3514412948357123, 0.3396479627942454, 0.520341711316048, 0.4794719600440978, 0.997566552337224, 0.9998308089940668, 0.9994837284056424, 0.5425628832889484, 0.457274584036836, 0.997379720508619, 0.805577261130687, 0.19408730588187362, 0.35709866763871867, 0.39997977813795826, 0.24294417552470207, 0.9989001712631073, 0.9977248437580525, 0.9984311919590672, 0.9835784685121601, 0.01641162404798447, 0.9928810732745631, 0.9865780090171927, 0.01312256118402554, 0.991024517390616, 0.9988292254309682, 0.9989536536322576], \"Term\": [\"\\\"\", \"'\", \"2020\", \"2020\", \"2020election\", \"2020election\", \"2020election\", \"270\", \"46th\", \"47\", \"I\", \"abc\", \"account\", \"america\", \"america\", \"americadecides2020\", \"amp\", \"amp\", \"amp\", \"amp\", \"arizona\", \"bad\", \"ballot\", \"believe\", \"biden\", \"biden\", \"biden\", \"biden\", \"biden2020\", \"biden2020\", \"bidencrimefamiily\", \"bidenharis2020\", \"bidenharris2020\", \"bidenharris2020\", \"bidenharris2020\", \"bidenharris2020tosaveamerica\", \"bidenharristosaveamerica\", \"bitcoin\", \"blame\", \"blue\", \"business\", \"business\", \"bye\", \"byebyetrump\", \"byedon2020\", \"call\", \"call\", \"call\", \"can\", \"care\", \"censorship\", \"china\", \"chinese\", \"click\", \"click\", \"cnn\", \"cnn\", \"cnn\", \"cnn\", \"college\", \"compassion\", \"congrat\", \"congratulation\", \"congratulationsjoebiden\", \"corruption\", \"corruptjoebiden\", \"count\", \"counteveryvote\", \"country\", \"country\", \"county\", \"cover\", \"cover\", \"cry\", \"debate\", \"debates2020\", \"design\", \"dog\", \"donaldjtrumpjr\", \"donaldtrump\", \"dumptrump2020\", \"elect\", \"elect\", \"election\", \"election\", \"election\", \"election2020\", \"election2020\", \"election2020result\", \"electionday\", \"electionresult\", \"electionresults2020\", \"electionresults2020\", \"elections2020\", \"elections2020\", \"electoral\", \"email\", \"empathy\", \"even\", \"everyone\", \"everyone\", \"evidence\", \"facebook\", \"family\", \"family\", \"fbi\", \"fire\", \"florida\", \"follower\", \"forget\", \"foxnew\", \"foxnew\", \"georgia\", \"germany\", \"get\", \"get\", \"give\", \"give\", \"go\", \"go\", \"go\", \"good\", \"good\", \"grow\", \"guy\", \"hall\", \"harris\", \"harris\", \"hear\", \"hillaryclinton\", \"https\", \"https\", \"https\", \"https\", \"hunter\", \"hunterbiden\", \"hunterbidenemail\", \"india\", \"joe\", \"joe\", \"joe\", \"joebiden\", \"joebiden\", \"joebiden\", \"joebiden2020\", \"joebidenkamalaharris2020\", \"kamala\", \"kamalaharris\", \"kamalaharrisvp\", \"keep\", \"know\", \"laptop\", \"last\", \"last\", \"lead\", \"let\", \"let\", \"lie\", \"like\", \"like\", \"link\", \"link\", \"mail\", \"make\", \"make\", \"makeamericagreatagain\", \"man\", \"medium\", \"medium\", \"michigan\", \"must\", \"na\", \"nbcnew\", \"need\", \"need\", \"nevada\", \"never\", \"new\", \"new\", \"new\", \"news\", \"news\", \"news\", \"news\", \"not\", \"nt\", \"nypost\", \"nytime\", \"okay\", \"omg\", \"one\", \"orange\", \"pa\", \"pennsylvania\", \"people\", \"people\", \"pick\", \"poll\", \"popular\", \"post\", \"post\", \"president\", \"president\", \"presidentelect\", \"presidentelectjoe\", \"presidentialelection\", \"projectlincoln\", \"rather\", \"realdonaldtrump\", \"realdonaldtrump\", \"realdonaldtrump\", \"really\", \"red\", \"right\", \"right\", \"say\", \"see\", \"see\", \"sound\", \"state\", \"states\", \"still\", \"still\", \"story\", \"supporter\", \"tell\", \"texas\", \"thing\", \"think\", \"time\", \"time\", \"to\", \"town\", \"trump\", \"trump\", \"trump\", \"trump2020\", \"trump2020\", \"trump2020\", \"trumpcrimefamily\", \"trumptantrum\", \"trumpvsbiden\", \"twitter\", \"united\", \"usa\", \"usaelection2020\", \"usaelections2020\", \"uselection\", \"uselection2020\", \"uselectionresults2020\", \"uselections2020\", \"uspresidentialelections2020\", \"via\", \"vice\", \"video\", \"video\", \"video\", \"virus\", \"vote\", \"vote\", \"vote\", \"votebluetosaveamerica\", \"votehimout\", \"votehimout\", \"votehimout\", \"voter\", \"voter\", \"wan\", \"want\", \"way\", \"we\", \"we\", \"weird\", \"well\", \"well\", \"win\", \"win\", \"win\", \"wisconsin\", \"wonderful\", \"word\", \"would\", \"would\", \"wtf\", \"year\", \"year\", \"yo\", \"yourefire\", \"youtube\"]}, \"R\": 30, \"lambda.step\": 0.01, \"plot.opts\": {\"xlab\": \"PC1\", \"ylab\": \"PC2\"}, \"topic.order\": [4, 3, 2, 5, 1]};\n",
       "\n",
       "function LDAvis_load_lib(url, callback){\n",
       "  var s = document.createElement('script');\n",
       "  s.src = url;\n",
       "  s.async = true;\n",
       "  s.onreadystatechange = s.onload = callback;\n",
       "  s.onerror = function(){console.warn(\"failed to load library \" + url);};\n",
       "  document.getElementsByTagName(\"head\")[0].appendChild(s);\n",
       "}\n",
       "\n",
       "if(typeof(LDAvis) !== \"undefined\"){\n",
       "   // already loaded: just create the visualization\n",
       "   !function(LDAvis){\n",
       "       new LDAvis(\"#\" + \"ldavis_el2726013851663964322478793266\", ldavis_el2726013851663964322478793266_data);\n",
       "   }(LDAvis);\n",
       "}else if(typeof define === \"function\" && define.amd){\n",
       "   // require.js is available: use it to load d3/LDAvis\n",
       "   require.config({paths: {d3: \"https://d3js.org/d3.v5\"}});\n",
       "   require([\"d3\"], function(d3){\n",
       "      window.d3 = d3;\n",
       "      LDAvis_load_lib(\"https://cdn.jsdelivr.net/gh/bmabey/pyLDAvis@3.4.0/pyLDAvis/js/ldavis.v3.0.0.js\", function(){\n",
       "        new LDAvis(\"#\" + \"ldavis_el2726013851663964322478793266\", ldavis_el2726013851663964322478793266_data);\n",
       "      });\n",
       "    });\n",
       "}else{\n",
       "    // require.js not available: dynamically load d3 & LDAvis\n",
       "    LDAvis_load_lib(\"https://d3js.org/d3.v5.js\", function(){\n",
       "         LDAvis_load_lib(\"https://cdn.jsdelivr.net/gh/bmabey/pyLDAvis@3.4.0/pyLDAvis/js/ldavis.v3.0.0.js\", function(){\n",
       "                 new LDAvis(\"#\" + \"ldavis_el2726013851663964322478793266\", ldavis_el2726013851663964322478793266_data);\n",
       "            })\n",
       "         });\n",
       "}\n",
       "</script>"
      ],
      "text/plain": [
       "<IPython.core.display.HTML object>"
      ]
     },
     "execution_count": 31,
     "metadata": {},
     "output_type": "execute_result"
    }
   ],
   "source": [
    "pyLDAvis.display(vis)"
   ]
  },
  {
   "cell_type": "code",
   "execution_count": null,
   "id": "0f0cfcc1",
   "metadata": {},
   "outputs": [],
   "source": []
  },
  {
   "cell_type": "code",
   "execution_count": null,
   "id": "3793b17e",
   "metadata": {},
   "outputs": [],
   "source": []
  }
 ],
 "metadata": {
  "kernelspec": {
   "display_name": "Python 3 (ipykernel)",
   "language": "python",
   "name": "python3"
  },
  "language_info": {
   "codemirror_mode": {
    "name": "ipython",
    "version": 3
   },
   "file_extension": ".py",
   "mimetype": "text/x-python",
   "name": "python",
   "nbconvert_exporter": "python",
   "pygments_lexer": "ipython3",
   "version": "3.9.12"
  }
 },
 "nbformat": 4,
 "nbformat_minor": 5
}
