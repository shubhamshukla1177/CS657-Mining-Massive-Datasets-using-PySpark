{
  "cells": [
    {
      "cell_type": "markdown",
      "metadata": {
        "id": "SxG4hs8C00Hy"
      },
      "source": [
        "## Data\n",
        "\n",
        "The data for this assignment will be the MovieLens dataset\n",
        "MovieLens\n",
        "\n",
        "Use the MovieLens 25 M dataset\n",
        "\n",
        "## Tasks\n",
        "\n",
        "1. Using Spark, design and implement a Recommender System to predict ratings of movies. Base your utility matrix on the Movie Lens 25M dataset. Use the Products of Factors technique for your system and optimize the loss function with ALS.\n",
        "\n",
        "2. To tune your solution, use crossvalidation over a subset (80%) of the data. You can use the utilities in Spark to generate the folds. Use the rest of the dataset (20%) to test the system after tuning.Compute RMSE, MSE, and MAP.\n",
        "\n",
        "3. Implement a hybrid system that uses the ALS solution and item-item CF. You can use as guidance the scripts Hybrid Alg. and Hybrid Testing changing statements where appropriate. How does the oerformance change?\n",
        "\n",
        "4. Implement a third component, treating the problem as one of supervised learming prediction (i.e., given the features of the movie -found in Movies Data File Structure- and user, predict the rating this user would give to this movie). Choose a predictive model in MLLIB for this task. Incorporate the new model into the hybrid system you built before and test the performance of this new hybrid. Tune the weight you give to each model. How does the performance change?"
      ]
    },
    {
      "cell_type": "code",
      "source": [
        "'''\n",
        "Team Members:\n",
        "\n",
        "1. Kumar Shubham\n",
        "2. Deep Vora\n",
        "\n",
        "'''"
      ],
      "metadata": {
        "colab": {
          "base_uri": "https://localhost:8080/",
          "height": 35
        },
        "id": "k4PrtNUPkux6",
        "outputId": "cc8be899-0fa8-4442-b9d5-d5be6a9c8d7a"
      },
      "execution_count": 1,
      "outputs": [
        {
          "output_type": "execute_result",
          "data": {
            "text/plain": [
              "'\\nTeam Members: \\n\\n1. Kumar Shubham\\n2. Deep Vora\\n\\n'"
            ],
            "application/vnd.google.colaboratory.intrinsic+json": {
              "type": "string"
            }
          },
          "metadata": {},
          "execution_count": 1
        }
      ]
    },
    {
      "cell_type": "markdown",
      "source": [
        "EDA"
      ],
      "metadata": {
        "id": "cnwysGXFGilI"
      }
    },
    {
      "cell_type": "code",
      "execution_count": 1,
      "metadata": {
        "colab": {
          "base_uri": "https://localhost:8080/"
        },
        "id": "I4-81k0yo2MK",
        "outputId": "3033668a-cc8a-4f55-fc9f-5f33e7aca782"
      },
      "outputs": [
        {
          "output_type": "stream",
          "name": "stdout",
          "text": [
            "\u001b[2K     \u001b[90m━━━━━━━━━━━━━━━━━━━━━━━━━━━━━━━━━━━━━━━━\u001b[0m \u001b[32m316.9/316.9 MB\u001b[0m \u001b[31m1.8 MB/s\u001b[0m eta \u001b[36m0:00:00\u001b[0m\n",
            "\u001b[?25h  Preparing metadata (setup.py) ... \u001b[?25l\u001b[?25hdone\n",
            "  Building wheel for pyspark (setup.py) ... \u001b[?25l\u001b[?25hdone\n"
          ]
        }
      ],
      "source": [
        "!pip install pyspark --quiet"
      ]
    },
    {
      "cell_type": "code",
      "source": [
        "import random\n",
        "import pandas as pd\n",
        "import matplotlib.pyplot as plt\n",
        "from pyspark.ml.evaluation import RankingEvaluator\n",
        "from pyspark.mllib.evaluation import RankingMetrics\n",
        "import seaborn as sns\n",
        "from pyspark.ml.recommendation import ALS\n",
        "from pyspark.ml.feature import VectorAssembler\n",
        "from pyspark.ml.linalg import Vectors, SparseVector\n",
        "from pyspark.sql import SparkSession\n",
        "from pyspark.sql import functions as F\n",
        "from pyspark.sql.window import Window\n",
        "from pyspark.ml.evaluation import RegressionEvaluator\n",
        "from pyspark.ml.feature import Normalizer\n",
        "import networkx as nx\n",
        "import pyspark.sql.types as T\n",
        "import numpy as np\n",
        "from pyspark.ml.regression import LinearRegression\n",
        "from pyspark.ml import Pipeline\n",
        "from pyspark.ml.tuning import CrossValidator, ParamGridBuilder"
      ],
      "metadata": {
        "id": "lJfWCwHG9VRW"
      },
      "execution_count": 2,
      "outputs": []
    },
    {
      "cell_type": "code",
      "execution_count": 3,
      "metadata": {
        "id": "IXN1eRlDLggI"
      },
      "outputs": [],
      "source": [
        "from pyspark import SparkConf, SparkContext\n",
        "from pyspark.sql import SparkSession\n",
        "\n",
        "conf = SparkConf()\n",
        "# conf.set(\"spark.executor.memory\",\"8g\")\n",
        "# conf.set(\"spark.executor.cores\", \"4\")\n",
        "# conf.set(\"spark.driver.memory\", \"8g\")\n",
        "# conf.set(\"spark.driver.cores\", \"2\")\n",
        "sc = SparkContext.getOrCreate(conf)\n",
        "spark = SparkSession.builder.appName(\"MovieRecommender\").getOrCreate()"
      ]
    },
    {
      "cell_type": "code",
      "execution_count": 4,
      "metadata": {
        "id": "QJpMqISopG-B"
      },
      "outputs": [],
      "source": [
        "ratings_df = spark.read.csv(\"/content/drive/MyDrive/CS657/ml-25m/ratings.csv\", header=True, inferSchema=True)"
      ]
    },
    {
      "cell_type": "code",
      "source": [
        "movies_df = spark.read.csv(\"/content/drive/MyDrive/CS657/ml-25m/movies.csv\", header=True, inferSchema=True)"
      ],
      "metadata": {
        "id": "93iN_WnFu8x-"
      },
      "execution_count": 5,
      "outputs": []
    },
    {
      "cell_type": "code",
      "source": [
        "movies_df.count()"
      ],
      "metadata": {
        "colab": {
          "base_uri": "https://localhost:8080/"
        },
        "id": "9T-bgFjBvLmU",
        "outputId": "e8003c22-722a-4513-f05e-6e50c720c3c0"
      },
      "execution_count": 93,
      "outputs": [
        {
          "output_type": "execute_result",
          "data": {
            "text/plain": [
              "62423"
            ]
          },
          "metadata": {},
          "execution_count": 93
        }
      ]
    },
    {
      "cell_type": "code",
      "execution_count": null,
      "metadata": {
        "colab": {
          "base_uri": "https://localhost:8080/"
        },
        "id": "CieXWMBNp5yS",
        "outputId": "32fa06ba-ea62-48bb-9d59-af62d81464df"
      },
      "outputs": [
        {
          "data": {
            "text/plain": [
              "25000095"
            ]
          },
          "execution_count": 4,
          "metadata": {},
          "output_type": "execute_result"
        }
      ],
      "source": [
        "ratings_df.count()"
      ]
    },
    {
      "cell_type": "code",
      "execution_count": null,
      "metadata": {
        "colab": {
          "base_uri": "https://localhost:8080/"
        },
        "id": "AxWnXcGbpYEG",
        "outputId": "760a1fe4-691d-499d-ae50-495be0647cce"
      },
      "outputs": [
        {
          "name": "stdout",
          "output_type": "stream",
          "text": [
            "+------+-------+------+----------+\n",
            "|userId|movieId|rating| timestamp|\n",
            "+------+-------+------+----------+\n",
            "|     1|    296|   5.0|1147880044|\n",
            "|     1|    306|   3.5|1147868817|\n",
            "|     1|    307|   5.0|1147868828|\n",
            "|     1|    665|   5.0|1147878820|\n",
            "|     1|    899|   3.5|1147868510|\n",
            "|     1|   1088|   4.0|1147868495|\n",
            "|     1|   1175|   3.5|1147868826|\n",
            "|     1|   1217|   3.5|1147878326|\n",
            "|     1|   1237|   5.0|1147868839|\n",
            "|     1|   1250|   4.0|1147868414|\n",
            "|     1|   1260|   3.5|1147877857|\n",
            "|     1|   1653|   4.0|1147868097|\n",
            "|     1|   2011|   2.5|1147868079|\n",
            "|     1|   2012|   2.5|1147868068|\n",
            "|     1|   2068|   2.5|1147869044|\n",
            "|     1|   2161|   3.5|1147868609|\n",
            "|     1|   2351|   4.5|1147877957|\n",
            "|     1|   2573|   4.0|1147878923|\n",
            "|     1|   2632|   5.0|1147878248|\n",
            "|     1|   2692|   5.0|1147869100|\n",
            "+------+-------+------+----------+\n",
            "only showing top 20 rows\n",
            "\n"
          ]
        }
      ],
      "source": [
        "ratings_df.show()"
      ]
    },
    {
      "cell_type": "code",
      "source": [
        "# ratings_df_t = ratings_df.limit(100000)"
      ],
      "metadata": {
        "id": "9qKQikqazGHh"
      },
      "execution_count": 6,
      "outputs": []
    },
    {
      "cell_type": "code",
      "source": [
        "movies = movies_df.toPandas()\n",
        "ratings = ratings_df_t.toPandas()\n",
        "user_item_matrix = ratings.pivot(\"userId\", \"movieId\", \"rating\")"
      ],
      "metadata": {
        "colab": {
          "base_uri": "https://localhost:8080/"
        },
        "id": "4PYntOLny9x6",
        "outputId": "834b3cda-493e-4e06-a720-cf9088792ba3"
      },
      "execution_count": 12,
      "outputs": [
        {
          "output_type": "stream",
          "name": "stderr",
          "text": [
            "<ipython-input-12-939f049fa698>:3: FutureWarning: In a future version of pandas all arguments of DataFrame.pivot will be keyword-only.\n",
            "  user_item_matrix = ratings.pivot(\"userId\", \"movieId\", \"rating\")\n"
          ]
        }
      ]
    },
    {
      "cell_type": "code",
      "source": [
        "user_item_matrix"
      ],
      "metadata": {
        "colab": {
          "base_uri": "https://localhost:8080/",
          "height": 455
        },
        "id": "NYCwRjsWzdPJ",
        "outputId": "6e3a1a12-53e8-401e-b083-5065871edfbc"
      },
      "execution_count": 13,
      "outputs": [
        {
          "output_type": "execute_result",
          "data": {
            "text/plain": [
              "movieId  1       2       3       4       5       6       7       8       \\\n",
              "userId                                                                    \n",
              "1           NaN     NaN     NaN     NaN     NaN     NaN     NaN     NaN   \n",
              "2           3.5     NaN     NaN     NaN     NaN     NaN     NaN     NaN   \n",
              "3           4.0     NaN     NaN     NaN     NaN     NaN     NaN     NaN   \n",
              "4           3.0     NaN     NaN     NaN     NaN     NaN     NaN     NaN   \n",
              "5           4.0     NaN     NaN     NaN     NaN     NaN     NaN     NaN   \n",
              "...         ...     ...     ...     ...     ...     ...     ...     ...   \n",
              "753         NaN     NaN     NaN     NaN     NaN     NaN     NaN     NaN   \n",
              "754         NaN     NaN     NaN     NaN     NaN     5.0     NaN     NaN   \n",
              "755         NaN     NaN     NaN     NaN     NaN     NaN     NaN     NaN   \n",
              "756         3.0     NaN     NaN     NaN     NaN     4.0     NaN     NaN   \n",
              "757         3.0     3.0     NaN     NaN     NaN     NaN     NaN     NaN   \n",
              "\n",
              "movieId  9       10      ...  204692  204698  204704  205054  205072  205106  \\\n",
              "userId                   ...                                                   \n",
              "1           NaN     NaN  ...     NaN     NaN     NaN     NaN     NaN     NaN   \n",
              "2           NaN     NaN  ...     NaN     NaN     NaN     NaN     NaN     NaN   \n",
              "3           NaN     NaN  ...     NaN     NaN     NaN     NaN     NaN     NaN   \n",
              "4           NaN     NaN  ...     NaN     NaN     NaN     NaN     NaN     NaN   \n",
              "5           NaN     NaN  ...     NaN     NaN     NaN     NaN     NaN     NaN   \n",
              "...         ...     ...  ...     ...     ...     ...     ...     ...     ...   \n",
              "753         NaN     NaN  ...     NaN     NaN     NaN     NaN     NaN     NaN   \n",
              "754         NaN     3.0  ...     NaN     NaN     NaN     NaN     NaN     NaN   \n",
              "755         NaN     NaN  ...     NaN     NaN     NaN     NaN     NaN     NaN   \n",
              "756         NaN     3.5  ...     NaN     NaN     NaN     NaN     NaN     NaN   \n",
              "757         NaN     NaN  ...     NaN     NaN     NaN     NaN     NaN     NaN   \n",
              "\n",
              "movieId  205413  205499  205557  206272  \n",
              "userId                                   \n",
              "1           NaN     NaN     NaN     NaN  \n",
              "2           NaN     NaN     NaN     NaN  \n",
              "3           NaN     NaN     NaN     NaN  \n",
              "4           NaN     NaN     NaN     NaN  \n",
              "5           NaN     NaN     NaN     NaN  \n",
              "...         ...     ...     ...     ...  \n",
              "753         NaN     NaN     NaN     NaN  \n",
              "754         NaN     NaN     NaN     NaN  \n",
              "755         NaN     NaN     NaN     NaN  \n",
              "756         NaN     NaN     NaN     NaN  \n",
              "757         NaN     NaN     NaN     NaN  \n",
              "\n",
              "[757 rows x 9786 columns]"
            ],
            "text/html": [
              "\n",
              "  <div id=\"df-a00a3c59-d4ff-4dda-8464-4e9b78a84506\" class=\"colab-df-container\">\n",
              "    <div>\n",
              "<style scoped>\n",
              "    .dataframe tbody tr th:only-of-type {\n",
              "        vertical-align: middle;\n",
              "    }\n",
              "\n",
              "    .dataframe tbody tr th {\n",
              "        vertical-align: top;\n",
              "    }\n",
              "\n",
              "    .dataframe thead th {\n",
              "        text-align: right;\n",
              "    }\n",
              "</style>\n",
              "<table border=\"1\" class=\"dataframe\">\n",
              "  <thead>\n",
              "    <tr style=\"text-align: right;\">\n",
              "      <th>movieId</th>\n",
              "      <th>1</th>\n",
              "      <th>2</th>\n",
              "      <th>3</th>\n",
              "      <th>4</th>\n",
              "      <th>5</th>\n",
              "      <th>6</th>\n",
              "      <th>7</th>\n",
              "      <th>8</th>\n",
              "      <th>9</th>\n",
              "      <th>10</th>\n",
              "      <th>...</th>\n",
              "      <th>204692</th>\n",
              "      <th>204698</th>\n",
              "      <th>204704</th>\n",
              "      <th>205054</th>\n",
              "      <th>205072</th>\n",
              "      <th>205106</th>\n",
              "      <th>205413</th>\n",
              "      <th>205499</th>\n",
              "      <th>205557</th>\n",
              "      <th>206272</th>\n",
              "    </tr>\n",
              "    <tr>\n",
              "      <th>userId</th>\n",
              "      <th></th>\n",
              "      <th></th>\n",
              "      <th></th>\n",
              "      <th></th>\n",
              "      <th></th>\n",
              "      <th></th>\n",
              "      <th></th>\n",
              "      <th></th>\n",
              "      <th></th>\n",
              "      <th></th>\n",
              "      <th></th>\n",
              "      <th></th>\n",
              "      <th></th>\n",
              "      <th></th>\n",
              "      <th></th>\n",
              "      <th></th>\n",
              "      <th></th>\n",
              "      <th></th>\n",
              "      <th></th>\n",
              "      <th></th>\n",
              "      <th></th>\n",
              "    </tr>\n",
              "  </thead>\n",
              "  <tbody>\n",
              "    <tr>\n",
              "      <th>1</th>\n",
              "      <td>NaN</td>\n",
              "      <td>NaN</td>\n",
              "      <td>NaN</td>\n",
              "      <td>NaN</td>\n",
              "      <td>NaN</td>\n",
              "      <td>NaN</td>\n",
              "      <td>NaN</td>\n",
              "      <td>NaN</td>\n",
              "      <td>NaN</td>\n",
              "      <td>NaN</td>\n",
              "      <td>...</td>\n",
              "      <td>NaN</td>\n",
              "      <td>NaN</td>\n",
              "      <td>NaN</td>\n",
              "      <td>NaN</td>\n",
              "      <td>NaN</td>\n",
              "      <td>NaN</td>\n",
              "      <td>NaN</td>\n",
              "      <td>NaN</td>\n",
              "      <td>NaN</td>\n",
              "      <td>NaN</td>\n",
              "    </tr>\n",
              "    <tr>\n",
              "      <th>2</th>\n",
              "      <td>3.5</td>\n",
              "      <td>NaN</td>\n",
              "      <td>NaN</td>\n",
              "      <td>NaN</td>\n",
              "      <td>NaN</td>\n",
              "      <td>NaN</td>\n",
              "      <td>NaN</td>\n",
              "      <td>NaN</td>\n",
              "      <td>NaN</td>\n",
              "      <td>NaN</td>\n",
              "      <td>...</td>\n",
              "      <td>NaN</td>\n",
              "      <td>NaN</td>\n",
              "      <td>NaN</td>\n",
              "      <td>NaN</td>\n",
              "      <td>NaN</td>\n",
              "      <td>NaN</td>\n",
              "      <td>NaN</td>\n",
              "      <td>NaN</td>\n",
              "      <td>NaN</td>\n",
              "      <td>NaN</td>\n",
              "    </tr>\n",
              "    <tr>\n",
              "      <th>3</th>\n",
              "      <td>4.0</td>\n",
              "      <td>NaN</td>\n",
              "      <td>NaN</td>\n",
              "      <td>NaN</td>\n",
              "      <td>NaN</td>\n",
              "      <td>NaN</td>\n",
              "      <td>NaN</td>\n",
              "      <td>NaN</td>\n",
              "      <td>NaN</td>\n",
              "      <td>NaN</td>\n",
              "      <td>...</td>\n",
              "      <td>NaN</td>\n",
              "      <td>NaN</td>\n",
              "      <td>NaN</td>\n",
              "      <td>NaN</td>\n",
              "      <td>NaN</td>\n",
              "      <td>NaN</td>\n",
              "      <td>NaN</td>\n",
              "      <td>NaN</td>\n",
              "      <td>NaN</td>\n",
              "      <td>NaN</td>\n",
              "    </tr>\n",
              "    <tr>\n",
              "      <th>4</th>\n",
              "      <td>3.0</td>\n",
              "      <td>NaN</td>\n",
              "      <td>NaN</td>\n",
              "      <td>NaN</td>\n",
              "      <td>NaN</td>\n",
              "      <td>NaN</td>\n",
              "      <td>NaN</td>\n",
              "      <td>NaN</td>\n",
              "      <td>NaN</td>\n",
              "      <td>NaN</td>\n",
              "      <td>...</td>\n",
              "      <td>NaN</td>\n",
              "      <td>NaN</td>\n",
              "      <td>NaN</td>\n",
              "      <td>NaN</td>\n",
              "      <td>NaN</td>\n",
              "      <td>NaN</td>\n",
              "      <td>NaN</td>\n",
              "      <td>NaN</td>\n",
              "      <td>NaN</td>\n",
              "      <td>NaN</td>\n",
              "    </tr>\n",
              "    <tr>\n",
              "      <th>5</th>\n",
              "      <td>4.0</td>\n",
              "      <td>NaN</td>\n",
              "      <td>NaN</td>\n",
              "      <td>NaN</td>\n",
              "      <td>NaN</td>\n",
              "      <td>NaN</td>\n",
              "      <td>NaN</td>\n",
              "      <td>NaN</td>\n",
              "      <td>NaN</td>\n",
              "      <td>NaN</td>\n",
              "      <td>...</td>\n",
              "      <td>NaN</td>\n",
              "      <td>NaN</td>\n",
              "      <td>NaN</td>\n",
              "      <td>NaN</td>\n",
              "      <td>NaN</td>\n",
              "      <td>NaN</td>\n",
              "      <td>NaN</td>\n",
              "      <td>NaN</td>\n",
              "      <td>NaN</td>\n",
              "      <td>NaN</td>\n",
              "    </tr>\n",
              "    <tr>\n",
              "      <th>...</th>\n",
              "      <td>...</td>\n",
              "      <td>...</td>\n",
              "      <td>...</td>\n",
              "      <td>...</td>\n",
              "      <td>...</td>\n",
              "      <td>...</td>\n",
              "      <td>...</td>\n",
              "      <td>...</td>\n",
              "      <td>...</td>\n",
              "      <td>...</td>\n",
              "      <td>...</td>\n",
              "      <td>...</td>\n",
              "      <td>...</td>\n",
              "      <td>...</td>\n",
              "      <td>...</td>\n",
              "      <td>...</td>\n",
              "      <td>...</td>\n",
              "      <td>...</td>\n",
              "      <td>...</td>\n",
              "      <td>...</td>\n",
              "      <td>...</td>\n",
              "    </tr>\n",
              "    <tr>\n",
              "      <th>753</th>\n",
              "      <td>NaN</td>\n",
              "      <td>NaN</td>\n",
              "      <td>NaN</td>\n",
              "      <td>NaN</td>\n",
              "      <td>NaN</td>\n",
              "      <td>NaN</td>\n",
              "      <td>NaN</td>\n",
              "      <td>NaN</td>\n",
              "      <td>NaN</td>\n",
              "      <td>NaN</td>\n",
              "      <td>...</td>\n",
              "      <td>NaN</td>\n",
              "      <td>NaN</td>\n",
              "      <td>NaN</td>\n",
              "      <td>NaN</td>\n",
              "      <td>NaN</td>\n",
              "      <td>NaN</td>\n",
              "      <td>NaN</td>\n",
              "      <td>NaN</td>\n",
              "      <td>NaN</td>\n",
              "      <td>NaN</td>\n",
              "    </tr>\n",
              "    <tr>\n",
              "      <th>754</th>\n",
              "      <td>NaN</td>\n",
              "      <td>NaN</td>\n",
              "      <td>NaN</td>\n",
              "      <td>NaN</td>\n",
              "      <td>NaN</td>\n",
              "      <td>5.0</td>\n",
              "      <td>NaN</td>\n",
              "      <td>NaN</td>\n",
              "      <td>NaN</td>\n",
              "      <td>3.0</td>\n",
              "      <td>...</td>\n",
              "      <td>NaN</td>\n",
              "      <td>NaN</td>\n",
              "      <td>NaN</td>\n",
              "      <td>NaN</td>\n",
              "      <td>NaN</td>\n",
              "      <td>NaN</td>\n",
              "      <td>NaN</td>\n",
              "      <td>NaN</td>\n",
              "      <td>NaN</td>\n",
              "      <td>NaN</td>\n",
              "    </tr>\n",
              "    <tr>\n",
              "      <th>755</th>\n",
              "      <td>NaN</td>\n",
              "      <td>NaN</td>\n",
              "      <td>NaN</td>\n",
              "      <td>NaN</td>\n",
              "      <td>NaN</td>\n",
              "      <td>NaN</td>\n",
              "      <td>NaN</td>\n",
              "      <td>NaN</td>\n",
              "      <td>NaN</td>\n",
              "      <td>NaN</td>\n",
              "      <td>...</td>\n",
              "      <td>NaN</td>\n",
              "      <td>NaN</td>\n",
              "      <td>NaN</td>\n",
              "      <td>NaN</td>\n",
              "      <td>NaN</td>\n",
              "      <td>NaN</td>\n",
              "      <td>NaN</td>\n",
              "      <td>NaN</td>\n",
              "      <td>NaN</td>\n",
              "      <td>NaN</td>\n",
              "    </tr>\n",
              "    <tr>\n",
              "      <th>756</th>\n",
              "      <td>3.0</td>\n",
              "      <td>NaN</td>\n",
              "      <td>NaN</td>\n",
              "      <td>NaN</td>\n",
              "      <td>NaN</td>\n",
              "      <td>4.0</td>\n",
              "      <td>NaN</td>\n",
              "      <td>NaN</td>\n",
              "      <td>NaN</td>\n",
              "      <td>3.5</td>\n",
              "      <td>...</td>\n",
              "      <td>NaN</td>\n",
              "      <td>NaN</td>\n",
              "      <td>NaN</td>\n",
              "      <td>NaN</td>\n",
              "      <td>NaN</td>\n",
              "      <td>NaN</td>\n",
              "      <td>NaN</td>\n",
              "      <td>NaN</td>\n",
              "      <td>NaN</td>\n",
              "      <td>NaN</td>\n",
              "    </tr>\n",
              "    <tr>\n",
              "      <th>757</th>\n",
              "      <td>3.0</td>\n",
              "      <td>3.0</td>\n",
              "      <td>NaN</td>\n",
              "      <td>NaN</td>\n",
              "      <td>NaN</td>\n",
              "      <td>NaN</td>\n",
              "      <td>NaN</td>\n",
              "      <td>NaN</td>\n",
              "      <td>NaN</td>\n",
              "      <td>NaN</td>\n",
              "      <td>...</td>\n",
              "      <td>NaN</td>\n",
              "      <td>NaN</td>\n",
              "      <td>NaN</td>\n",
              "      <td>NaN</td>\n",
              "      <td>NaN</td>\n",
              "      <td>NaN</td>\n",
              "      <td>NaN</td>\n",
              "      <td>NaN</td>\n",
              "      <td>NaN</td>\n",
              "      <td>NaN</td>\n",
              "    </tr>\n",
              "  </tbody>\n",
              "</table>\n",
              "<p>757 rows × 9786 columns</p>\n",
              "</div>\n",
              "    <div class=\"colab-df-buttons\">\n",
              "\n",
              "  <div class=\"colab-df-container\">\n",
              "    <button class=\"colab-df-convert\" onclick=\"convertToInteractive('df-a00a3c59-d4ff-4dda-8464-4e9b78a84506')\"\n",
              "            title=\"Convert this dataframe to an interactive table.\"\n",
              "            style=\"display:none;\">\n",
              "\n",
              "  <svg xmlns=\"http://www.w3.org/2000/svg\" height=\"24px\" viewBox=\"0 -960 960 960\">\n",
              "    <path d=\"M120-120v-720h720v720H120Zm60-500h600v-160H180v160Zm220 220h160v-160H400v160Zm0 220h160v-160H400v160ZM180-400h160v-160H180v160Zm440 0h160v-160H620v160ZM180-180h160v-160H180v160Zm440 0h160v-160H620v160Z\"/>\n",
              "  </svg>\n",
              "    </button>\n",
              "\n",
              "  <style>\n",
              "    .colab-df-container {\n",
              "      display:flex;\n",
              "      gap: 12px;\n",
              "    }\n",
              "\n",
              "    .colab-df-convert {\n",
              "      background-color: #E8F0FE;\n",
              "      border: none;\n",
              "      border-radius: 50%;\n",
              "      cursor: pointer;\n",
              "      display: none;\n",
              "      fill: #1967D2;\n",
              "      height: 32px;\n",
              "      padding: 0 0 0 0;\n",
              "      width: 32px;\n",
              "    }\n",
              "\n",
              "    .colab-df-convert:hover {\n",
              "      background-color: #E2EBFA;\n",
              "      box-shadow: 0px 1px 2px rgba(60, 64, 67, 0.3), 0px 1px 3px 1px rgba(60, 64, 67, 0.15);\n",
              "      fill: #174EA6;\n",
              "    }\n",
              "\n",
              "    .colab-df-buttons div {\n",
              "      margin-bottom: 4px;\n",
              "    }\n",
              "\n",
              "    [theme=dark] .colab-df-convert {\n",
              "      background-color: #3B4455;\n",
              "      fill: #D2E3FC;\n",
              "    }\n",
              "\n",
              "    [theme=dark] .colab-df-convert:hover {\n",
              "      background-color: #434B5C;\n",
              "      box-shadow: 0px 1px 3px 1px rgba(0, 0, 0, 0.15);\n",
              "      filter: drop-shadow(0px 1px 2px rgba(0, 0, 0, 0.3));\n",
              "      fill: #FFFFFF;\n",
              "    }\n",
              "  </style>\n",
              "\n",
              "    <script>\n",
              "      const buttonEl =\n",
              "        document.querySelector('#df-a00a3c59-d4ff-4dda-8464-4e9b78a84506 button.colab-df-convert');\n",
              "      buttonEl.style.display =\n",
              "        google.colab.kernel.accessAllowed ? 'block' : 'none';\n",
              "\n",
              "      async function convertToInteractive(key) {\n",
              "        const element = document.querySelector('#df-a00a3c59-d4ff-4dda-8464-4e9b78a84506');\n",
              "        const dataTable =\n",
              "          await google.colab.kernel.invokeFunction('convertToInteractive',\n",
              "                                                    [key], {});\n",
              "        if (!dataTable) return;\n",
              "\n",
              "        const docLinkHtml = 'Like what you see? Visit the ' +\n",
              "          '<a target=\"_blank\" href=https://colab.research.google.com/notebooks/data_table.ipynb>data table notebook</a>'\n",
              "          + ' to learn more about interactive tables.';\n",
              "        element.innerHTML = '';\n",
              "        dataTable['output_type'] = 'display_data';\n",
              "        await google.colab.output.renderOutput(dataTable, element);\n",
              "        const docLink = document.createElement('div');\n",
              "        docLink.innerHTML = docLinkHtml;\n",
              "        element.appendChild(docLink);\n",
              "      }\n",
              "    </script>\n",
              "  </div>\n",
              "\n",
              "\n",
              "<div id=\"df-ee4e6bda-6542-4137-a325-d387bef9bfee\">\n",
              "  <button class=\"colab-df-quickchart\" onclick=\"quickchart('df-ee4e6bda-6542-4137-a325-d387bef9bfee')\"\n",
              "            title=\"Suggest charts\"\n",
              "            style=\"display:none;\">\n",
              "\n",
              "<svg xmlns=\"http://www.w3.org/2000/svg\" height=\"24px\"viewBox=\"0 0 24 24\"\n",
              "     width=\"24px\">\n",
              "    <g>\n",
              "        <path d=\"M19 3H5c-1.1 0-2 .9-2 2v14c0 1.1.9 2 2 2h14c1.1 0 2-.9 2-2V5c0-1.1-.9-2-2-2zM9 17H7v-7h2v7zm4 0h-2V7h2v10zm4 0h-2v-4h2v4z\"/>\n",
              "    </g>\n",
              "</svg>\n",
              "  </button>\n",
              "\n",
              "<style>\n",
              "  .colab-df-quickchart {\n",
              "      --bg-color: #E8F0FE;\n",
              "      --fill-color: #1967D2;\n",
              "      --hover-bg-color: #E2EBFA;\n",
              "      --hover-fill-color: #174EA6;\n",
              "      --disabled-fill-color: #AAA;\n",
              "      --disabled-bg-color: #DDD;\n",
              "  }\n",
              "\n",
              "  [theme=dark] .colab-df-quickchart {\n",
              "      --bg-color: #3B4455;\n",
              "      --fill-color: #D2E3FC;\n",
              "      --hover-bg-color: #434B5C;\n",
              "      --hover-fill-color: #FFFFFF;\n",
              "      --disabled-bg-color: #3B4455;\n",
              "      --disabled-fill-color: #666;\n",
              "  }\n",
              "\n",
              "  .colab-df-quickchart {\n",
              "    background-color: var(--bg-color);\n",
              "    border: none;\n",
              "    border-radius: 50%;\n",
              "    cursor: pointer;\n",
              "    display: none;\n",
              "    fill: var(--fill-color);\n",
              "    height: 32px;\n",
              "    padding: 0;\n",
              "    width: 32px;\n",
              "  }\n",
              "\n",
              "  .colab-df-quickchart:hover {\n",
              "    background-color: var(--hover-bg-color);\n",
              "    box-shadow: 0 1px 2px rgba(60, 64, 67, 0.3), 0 1px 3px 1px rgba(60, 64, 67, 0.15);\n",
              "    fill: var(--button-hover-fill-color);\n",
              "  }\n",
              "\n",
              "  .colab-df-quickchart-complete:disabled,\n",
              "  .colab-df-quickchart-complete:disabled:hover {\n",
              "    background-color: var(--disabled-bg-color);\n",
              "    fill: var(--disabled-fill-color);\n",
              "    box-shadow: none;\n",
              "  }\n",
              "\n",
              "  .colab-df-spinner {\n",
              "    border: 2px solid var(--fill-color);\n",
              "    border-color: transparent;\n",
              "    border-bottom-color: var(--fill-color);\n",
              "    animation:\n",
              "      spin 1s steps(1) infinite;\n",
              "  }\n",
              "\n",
              "  @keyframes spin {\n",
              "    0% {\n",
              "      border-color: transparent;\n",
              "      border-bottom-color: var(--fill-color);\n",
              "      border-left-color: var(--fill-color);\n",
              "    }\n",
              "    20% {\n",
              "      border-color: transparent;\n",
              "      border-left-color: var(--fill-color);\n",
              "      border-top-color: var(--fill-color);\n",
              "    }\n",
              "    30% {\n",
              "      border-color: transparent;\n",
              "      border-left-color: var(--fill-color);\n",
              "      border-top-color: var(--fill-color);\n",
              "      border-right-color: var(--fill-color);\n",
              "    }\n",
              "    40% {\n",
              "      border-color: transparent;\n",
              "      border-right-color: var(--fill-color);\n",
              "      border-top-color: var(--fill-color);\n",
              "    }\n",
              "    60% {\n",
              "      border-color: transparent;\n",
              "      border-right-color: var(--fill-color);\n",
              "    }\n",
              "    80% {\n",
              "      border-color: transparent;\n",
              "      border-right-color: var(--fill-color);\n",
              "      border-bottom-color: var(--fill-color);\n",
              "    }\n",
              "    90% {\n",
              "      border-color: transparent;\n",
              "      border-bottom-color: var(--fill-color);\n",
              "    }\n",
              "  }\n",
              "</style>\n",
              "\n",
              "  <script>\n",
              "    async function quickchart(key) {\n",
              "      const quickchartButtonEl =\n",
              "        document.querySelector('#' + key + ' button');\n",
              "      quickchartButtonEl.disabled = true;  // To prevent multiple clicks.\n",
              "      quickchartButtonEl.classList.add('colab-df-spinner');\n",
              "      try {\n",
              "        const charts = await google.colab.kernel.invokeFunction(\n",
              "            'suggestCharts', [key], {});\n",
              "      } catch (error) {\n",
              "        console.error('Error during call to suggestCharts:', error);\n",
              "      }\n",
              "      quickchartButtonEl.classList.remove('colab-df-spinner');\n",
              "      quickchartButtonEl.classList.add('colab-df-quickchart-complete');\n",
              "    }\n",
              "    (() => {\n",
              "      let quickchartButtonEl =\n",
              "        document.querySelector('#df-ee4e6bda-6542-4137-a325-d387bef9bfee button');\n",
              "      quickchartButtonEl.style.display =\n",
              "        google.colab.kernel.accessAllowed ? 'block' : 'none';\n",
              "    })();\n",
              "  </script>\n",
              "</div>\n",
              "    </div>\n",
              "  </div>\n"
            ]
          },
          "metadata": {},
          "execution_count": 13
        }
      ]
    },
    {
      "cell_type": "code",
      "source": [
        "sampled_users = [row[\"userId\"] for row in random.sample(ratings_df.select(\"userId\").distinct().collect(), 100)]\n",
        "sampled_items = [row[\"movieId\"] for row in random.sample(ratings_df.select(\"movieId\").distinct().collect(), 100)]\n",
        "\n",
        "# Filter the DataFrame based on sampled users and items\n",
        "sampled_ratings_df = ratings_df.filter(F.col(\"userId\").isin(sampled_users)).filter(F.col(\"movieId\").isin(sampled_items))\n",
        "\n",
        "sampled_ratings_df = sampled_ratings_df.toPandas()\n",
        "# Pivot the DataFrame to create a user-item matrix\n",
        "user_item_matrix = sampled_ratings_df.pivot(\"userId\", \"movieId\", \"rating\")\n",
        "\n",
        "# Create a heatmap using seaborn\n",
        "plt.figure(figsize=(10, 8))\n",
        "sns.heatmap(user_item_matrix, cmap=\"YlGnBu\", cbar_kws={'label': 'Rating'})\n",
        "plt.title(\"Sampled Collaborative Filtering Matrix\")\n",
        "plt.xlabel(\"Movie ID\")\n",
        "plt.ylabel(\"User ID\")\n",
        "plt.show()"
      ],
      "metadata": {
        "colab": {
          "base_uri": "https://localhost:8080/",
          "height": 753
        },
        "id": "qLP4gUMszPym",
        "outputId": "b5a9c65c-b766-4ab2-bc72-a4d2e308738c"
      },
      "execution_count": 14,
      "outputs": [
        {
          "output_type": "stream",
          "name": "stderr",
          "text": [
            "<ipython-input-14-f6ef4c0376da>:9: FutureWarning: In a future version of pandas all arguments of DataFrame.pivot will be keyword-only.\n",
            "  user_item_matrix = sampled_ratings_df.pivot(\"userId\", \"movieId\", \"rating\")\n"
          ]
        },
        {
          "output_type": "display_data",
          "data": {
            "text/plain": [
              "<Figure size 1000x800 with 2 Axes>"
            ],
            "image/png": "[encoded data removed]"
          },
          "metadata": {}
        }
      ]
    },
    {
      "cell_type": "code",
      "source": [
        "# Merge movies and ratings\n",
        "movie_ratings = pd.merge(ratings, movies, on='movieId')\n",
        "\n",
        "# Calculate the number of ratings for each movie\n",
        "ratings_count = movie_ratings.groupby('title').size().sort_values(ascending=False)\n",
        "\n",
        "# Plot the long tail\n",
        "plt.figure(figsize=(12, 6))\n",
        "plt.bar(range(len(ratings_count)), ratings_count, color='blue')\n",
        "plt.xlabel('Movies')\n",
        "plt.ylabel('Number of Ratings')\n",
        "plt.title('Long Tail: Number of Ratings for Each Movie')\n",
        "plt.show()"
      ],
      "metadata": {
        "colab": {
          "base_uri": "https://localhost:8080/",
          "height": 564
        },
        "id": "lf3hLZeavQS5",
        "outputId": "a3cc8938-a592-4f81-b41e-625851839d77"
      },
      "execution_count": 15,
      "outputs": [
        {
          "output_type": "display_data",
          "data": {
            "text/plain": [
              "<Figure size 1200x600 with 1 Axes>"
            ],
            "image/png": "[encoded data removed]"
          },
          "metadata": {}
        }
      ]
    },
    {
      "cell_type": "code",
      "execution_count": 11,
      "metadata": {
        "id": "2BUG7wHcpscb"
      },
      "outputs": [],
      "source": [
        "# Split the data into training and testing sets\n",
        "(training, test) = ratings_df.randomSplit([0.8, 0.2], seed=7856)"
      ]
    },
    {
      "cell_type": "code",
      "source": [
        "# (train_t, test_t) = ratings_df_t.randomSplit([0.8, 0.2], seed=7856)"
      ],
      "metadata": {
        "id": "-yvt1U_4ZWii"
      },
      "execution_count": 7,
      "outputs": []
    },
    {
      "cell_type": "markdown",
      "source": [
        "ALS Algorithm"
      ],
      "metadata": {
        "id": "W_HttUYSGcqa"
      }
    },
    {
      "cell_type": "code",
      "execution_count": 21,
      "metadata": {
        "id": "AHPOf4VIp26H"
      },
      "outputs": [],
      "source": [
        "# Create an ALS model\n",
        "als = ALS(userCol=\"userId\", itemCol=\"movieId\", ratingCol=\"rating\", coldStartStrategy=\"drop\")\n",
        "\n",
        "# Set the hyperparameters for ALS\n",
        "als.setUserCol(\"userId\")\n",
        "als.setItemCol(\"movieId\")\n",
        "als.setRatingCol(\"rating\")\n",
        "\n",
        "# Fit the model to the training data\n",
        "als_model = als.fit(training)"
      ]
    },
    {
      "cell_type": "code",
      "execution_count": 22,
      "metadata": {
        "id": "ZYUjRwa01nhW"
      },
      "outputs": [],
      "source": [
        "# Make predictions on the test set\n",
        "als_pred = als_model.transform(test)"
      ]
    },
    {
      "cell_type": "code",
      "source": [
        "als_pred = als_pred.withColumn(\"prediction\", F.round(F.col(\"prediction\"),1))"
      ],
      "metadata": {
        "id": "Dq92MWMEPNQL"
      },
      "execution_count": 23,
      "outputs": []
    },
    {
      "cell_type": "code",
      "source": [
        "# Evaluate the model using RMSE (Root Mean Squared Error)\n",
        "als_evaluator = RegressionEvaluator(metricName=\"rmse\", labelCol=\"rating\", predictionCol=\"prediction\")\n",
        "als_rmse = als_evaluator.evaluate(als_pred)\n",
        "print(\"Root Mean Squared Error (RMSE) = \" + str(als_rmse))"
      ],
      "metadata": {
        "colab": {
          "base_uri": "https://localhost:8080/"
        },
        "id": "Uyd4YcZ4RdWd",
        "outputId": "db7bc7e7-744f-4618-98e5-394d5c6f3567"
      },
      "execution_count": 11,
      "outputs": [
        {
          "output_type": "stream",
          "name": "stdout",
          "text": [
            "Root Mean Squared Error (RMSE) = 0.8017801618368304\n"
          ]
        }
      ]
    },
    {
      "cell_type": "code",
      "source": [
        "# Evaluate the model using RMSE (Root Mean Squared Error)\n",
        "als_evaluator2 = RegressionEvaluator(metricName=\"mse\", labelCol=\"rating\", predictionCol=\"prediction\")\n",
        "als_mse = als_evaluator2.evaluate(als_pred)\n",
        "print(\"Mean Squared Error (MSE) = \" + str(als_mse))"
      ],
      "metadata": {
        "colab": {
          "base_uri": "https://localhost:8080/"
        },
        "id": "v_z8Jkj6RiPF",
        "outputId": "e4dcf42d-cb2b-4c6a-afcf-dbfd586160dc"
      },
      "execution_count": 12,
      "outputs": [
        {
          "output_type": "stream",
          "name": "stdout",
          "text": [
            "Mean Squared Error (MSE) = 0.642851427915094\n"
          ]
        }
      ]
    },
    {
      "cell_type": "code",
      "source": [
        "# Generate top 10 movie recommendations for each user\n",
        "userRecs = als_model.recommendForAllUsers(10)"
      ],
      "metadata": {
        "id": "8xhTMtsp9GM2"
      },
      "execution_count": 14,
      "outputs": []
    },
    {
      "cell_type": "code",
      "source": [
        "movie_names = userRecs.select(\"userId\", \"recommendations.movieId\") \\\n",
        "    .withColumn(\"movieId\", F.explode(\"movieId\")) \\\n",
        "    .join(movies_df, on=\"movieId\", how=\"left\")"
      ],
      "metadata": {
        "id": "qA1dEX6EDiaV"
      },
      "execution_count": 19,
      "outputs": []
    },
    {
      "cell_type": "code",
      "source": [
        "movie_names.columns"
      ],
      "metadata": {
        "colab": {
          "base_uri": "https://localhost:8080/"
        },
        "id": "DhMi2MaDEx1I",
        "outputId": "33e53c36-4777-4af1-b6c6-454d25d3e14a"
      },
      "execution_count": 20,
      "outputs": [
        {
          "output_type": "execute_result",
          "data": {
            "text/plain": [
              "['movieId', 'userId', 'title', 'genres']"
            ]
          },
          "metadata": {},
          "execution_count": 20
        }
      ]
    },
    {
      "cell_type": "code",
      "source": [
        "movie_names = movie_names.groupBy(\"userId\").agg(F.collect_list(F.struct(\"title\")).alias(\"recommendations\"))"
      ],
      "metadata": {
        "id": "R3PHx-raEqbd"
      },
      "execution_count": 21,
      "outputs": []
    },
    {
      "cell_type": "code",
      "source": [
        "display(movie_names.show(truncate=False))"
      ],
      "metadata": {
        "colab": {
          "base_uri": "https://localhost:8080/",
          "height": 506
        },
        "id": "HG4k32JM9HSa",
        "outputId": "0bf09765-8a6e-430a-89f7-36e9e81c245e"
      },
      "execution_count": 22,
      "outputs": [
        {
          "output_type": "stream",
          "name": "stdout",
          "text": [
            "+------+----------------------------------------------------------------------------------------------------------------------------------------------------------------------------------------------------------------------------------------------------------------------------------------------------------------------------------------------------------------+\n",
            "|userId|recommendations                                                                                                                                                                                                                                                                                                                                                 |\n",
            "+------+----------------------------------------------------------------------------------------------------------------------------------------------------------------------------------------------------------------------------------------------------------------------------------------------------------------------------------------------------------------+\n",
            "|1     |[{NOFX Backstage Passport 2}, {The Legend of Paul and Paula (1973)}, {C'est quoi la vie? (1999)}, {Eye for an Eye, An (Silmä silmästä) (1999)}, {National Theatre Live: One Man, Two Guvnors (2011)}, {Wajib (2017)}, {2 (2007)}, {Bicycle Dreams (2009)}, {Ο Θανάσης στη χώρα της σφαλιάρας (1976)}, {A Good Man (2009)}]                                      |\n",
            "|3     |[{The Law and the Fist (1964)}, {Head Trauma (2006)}, {Ο Θανάσης στη χώρα της σφαλιάρας (1976)}, {Dead in the Water (2006)}, {NOFX Backstage Passport 2}, {Математик и чёрт (1972)}, {Life Even Looks Like a Party (2009)}, {Truth and Justice (2019)}, {Seeing Red: Stories of American Communists (1983)}, {Eye for an Eye, An (Silmä silmästä) (1999)}]      |\n",
            "|5     |[{Truth and Justice (2019)}, {NOFX Backstage Passport 2}, {2 (2007)}, {Adrenaline (1990)}, {Dead in the Water (2006)}, {Eye for an Eye, An (Silmä silmästä) (1999)}, {Seeing Red: Stories of American Communists (1983)}, {The Good Fight: The Abraham Lincoln Brigade in the Spanish Civil War (1984)}, {C'est quoi la vie? (1999)}, {Father of Lights (2012)}]|\n",
            "|6     |[{Adrenaline (1990)}, {Foster (2018)}, {NOFX Backstage Passport 2}, {.hack Liminality In the Case of Kyoko Tohno}, {.hack Liminality In the Case of Yuki Aihara}, {Life Even Looks Like a Party (2009)}, {Head Trauma (2006)}, {Father of Lights (2012)}, {Furious Love (2010)}, {Finger of God (2007)}]                                                        |\n",
            "|9     |[{World Gone Wild (1988)}, {A Kind of America 2 (2008)}, {Civilisation (1969)}, {Truth and Justice (2019)}, {The Marquis (2011)}, {The Miracle Maker (2000)}, {Hello Stranger (2010)}, {Szaffi (1985)}, {Forbidden Love: The Unashamed Stories of Lesbian Lives (1992)}, {Seeing Red: Stories of American Communists (1983)}]                                   |\n",
            "|12    |[{NOFX Backstage Passport 2}, {National Theatre Live: One Man, Two Guvnors (2011)}, {Head Trauma (2006)}, {Sing (1989)}, {Ο Θανάσης στη χώρα της σφαλιάρας (1976)}, {Dead in the Water (2006)}, {ReMoved (2013)}, {The Law and the Fist (1964)}, {Life Even Looks Like a Party (2009)}, {Bicycle Dreams (2009)}]                                                |\n",
            "|13    |[{NOFX Backstage Passport 2}, {Adrenaline (1990)}, {Foster (2018)}, {Head Trauma (2006)}, {.hack Liminality In the Case of Kyoko Tohno}, {.hack Liminality In the Case of Yuki Aihara}, {2 (2007)}, {Truth and Justice (2019)}, {Ο Θανάσης στη χώρα της σφαλιάρας (1976)}, {Dead in the Water (2006)}]                                                          |\n",
            "|15    |[{NOFX Backstage Passport 2}, {The Law and the Fist (1964)}, {Dead in the Water (2006)}, {C'est quoi la vie? (1999)}, {Eye for an Eye, An (Silmä silmästä) (1999)}, {Truth and Justice (2019)}, {2 (2007)}, {Head Trauma (2006)}, {Ο Θανάσης στη χώρα της σφαλιάρας (1976)}, {Bicycle Dreams (2009)}]                                                           |\n",
            "|16    |[{NOFX Backstage Passport 2}, {Adrenaline (1990)}, {Head Trauma (2006)}, {Dead in the Water (2006)}, {Truth and Justice (2019)}, {The Law and the Fist (1964)}, {Ο Θανάσης στη χώρα της σφαλιάρας (1976)}, {Eye for an Eye, An (Silmä silmästä) (1999)}, {Father of Lights (2012)}, {Furious Love (2010)}]                                                      |\n",
            "|17    |[{World Gone Wild (1988)}, {The Dragon Spell (2016)}, {The Lion of Thebes (1964)}, {Provocateur (1998)}, {Cornbread, Earl and Me (1975)}, {A Kind of America 2 (2008)}, {Burn the Stage: The Movie (2018)}, {Hoaxed (2019)}, {Young Policemen in Love (1995)}, {The Grasshopper (1967)}]                                                                        |\n",
            "|19    |[{Head Trauma (2006)}, {Ο Θανάσης στη χώρα της σφαλιάρας (1976)}, {Vision Portraits (2019)}, {Vergeef me}, {Leaning Towards Solace (2012)}, {The Little Kidnappers (1953)}, {NOFX Backstage Passport 2}, {The Law and the Fist (1964)}, {Europe, She Loves (2016)}, {Once Upon a Ladder (2016)}]                                                                |\n",
            "|20    |[{Head Trauma (2006)}, {Adrenaline (1990)}, {Foster (2018)}, {Dead in the Water (2006)}, {Truth and Justice (2019)}, {NOFX Backstage Passport 2}, {Civilisation (1969)}, {The Thorn (1971)}, {Seeing Red: Stories of American Communists (1983)}, {Ο Θανάσης στη χώρα της σφαλιάρας (1976)}]                                                                    |\n",
            "|22    |[{The Miracle Maker (2000)}, {The Good Fight: The Abraham Lincoln Brigade in the Spanish Civil War (1984)}, {Truth and Justice (2019)}, {The Lone Chipmunks (1954)}, {Hoaxed (2019)}, {Oh, Ramona! (2019)}, {Seeing Red: Stories of American Communists (1983)}, {Scarlet Pimpernel, The (1982)}, {1968 (2018)}, {A Kind of America 2 (2008)}]                  |\n",
            "|26    |[{The Law and the Fist (1964)}, {Dead in the Water (2006)}, {Truth and Justice (2019)}, {C'est quoi la vie? (1999)}, {Seeing Red: Stories of American Communists (1983)}, {Nero's Guests (2009)}, {Head Trauma (2006)}, {Catch That Girl (2002)}, {Ο Θανάσης στη χώρα της σφαλιάρας (1976)}, {Revenge (1978)}]                                                  |\n",
            "|27    |[{World Gone Wild (1988)}, {The Lion of Thebes (1964)}, {Hello Stranger (2010)}, {The Dragon Spell (2016)}, {Truth and Justice (2019)}, {A Kind of America 2 (2008)}, {Ek Hasina Thi (2004)}, {The Marquis (2011)}, {In the Intense Now (2017)}, {Les Luthiers: El Grosso Concerto (2001)}]                                                                     |\n",
            "|28    |[{Adrenaline (1990)}, {Head Trauma (2006)}, {Civilisation (1969)}, {NOFX Backstage Passport 2}, {Dead in the Water (2006)}, {The Law and the Fist (1964)}, {The Thorn (1971)}, {Seeing Red: Stories of American Communists (1983)}, {Ο Θανάσης στη χώρα της σφαλιάρας (1976)}, {Father of Lights (2012)}]                                                       |\n",
            "|31    |[{Dead in the Water (2006)}, {Civilisation (1969)}, {NOFX Backstage Passport 2}, {Les Luthiers: El Grosso Concerto (2001)}, {Muchas gracias de nada (1980)}, {The Parting Glass (2019)}, {Seeing Red: Stories of American Communists (1983)}, {National Theatre Live: One Man, Two Guvnors (2011)}, {Hello Stranger (2010)}, {The Lurking Man (2018)}]          |\n",
            "|34    |[{World Gone Wild (1988)}, {The Marquis (2011)}, {The Lion of Thebes (1964)}, {A Kind of America 2 (2008)}, {Young Policemen in Love (1995)}, {The Grasshopper (1967)}, {Cornbread, Earl and Me (1975)}, {2 (2007)}, {NOFX Backstage Passport 2}, {Father of Lights (2012)}]                                                                                    |\n",
            "|35    |[{Truth and Justice (2019)}, {Dead in the Water (2006)}, {A Kind of America 2 (2008)}, {Seeing Red: Stories of American Communists (1983)}, {NOFX Backstage Passport 2}, {The Marquis (2011)}, {Freedom on My Mind (1994)}, {Hello Stranger (2010)}, {Civilisation (1969)}, {National Theatre Live: One Man, Two Guvnors (2011)}]                               |\n",
            "|37    |[{NOFX Backstage Passport 2}, {Adrenaline (1990)}, {Head Trauma (2006)}, {Ο Θανάσης στη χώρα της σφαλιάρας (1976)}, {.hack Liminality In the Case of Kyoko Tohno}, {.hack Liminality In the Case of Yuki Aihara}, {Life Even Looks Like a Party (2009)}, {Eye for an Eye, An (Silmä silmästä) (1999)}, {The Law and the Fist (1964)}, {Father of Lights (2012)}]|\n",
            "+------+----------------------------------------------------------------------------------------------------------------------------------------------------------------------------------------------------------------------------------------------------------------------------------------------------------------------------------------------------------------+\n",
            "only showing top 20 rows\n",
            "\n"
          ]
        },
        {
          "output_type": "display_data",
          "data": {
            "text/plain": [
              "None"
            ]
          },
          "metadata": {}
        }
      ]
    },
    {
      "cell_type": "markdown",
      "source": [
        "Fine Tuning ALS - Using Cross Validation"
      ],
      "metadata": {
        "id": "7wwWrZuQGQN_"
      }
    },
    {
      "cell_type": "code",
      "execution_count": 8,
      "metadata": {
        "id": "gridztwdqNrY"
      },
      "outputs": [],
      "source": [
        "# Cross-Validation\n",
        "def calculate_map_at_k(predictions, k):\n",
        "    user_rankings = predictions.groupBy(\"userId\").agg(F.collect_list(\"movieId\").alias(\"rankedMovies\"))\n",
        "    user_true_rankings = predictions.where(\"rating >= 4.0\").groupBy(\"userId\").agg(F.collect_list(\"movieId\").alias(\"trueMovies\"))\n",
        "    user_predictions = user_rankings.join(user_true_rankings, \"userId\").rdd.map(lambda row: (row[1], row[2]))\n",
        "    ranking_metrics = RankingMetrics(user_predictions)\n",
        "    map_at_k = ranking_metrics.meanAveragePrecision\n",
        "    return map_at_k"
      ]
    },
    {
      "cell_type": "code",
      "execution_count": 9,
      "metadata": {
        "id": "b5Hk3Mgy1Dst",
        "colab": {
          "base_uri": "https://localhost:8080/"
        },
        "outputId": "23c7ccc9-f645-47a2-e566-a9f063b04a71"
      },
      "outputs": [
        {
          "output_type": "stream",
          "name": "stderr",
          "text": [
            "/usr/local/lib/python3.10/dist-packages/pyspark/sql/context.py:158: FutureWarning: Deprecated in 3.0.0. Use SparkSession.builder.getOrCreate() instead.\n",
            "  warnings.warn(\n"
          ]
        },
        {
          "output_type": "stream",
          "name": "stdout",
          "text": [
            "RMSE: 0.8940665670156733, MSE: 0.7993550262551915, MAP at K: 0.6825662149178818\n"
          ]
        }
      ],
      "source": [
        "als = ALS(userCol=\"userId\", itemCol=\"movieId\", ratingCol=\"rating\", coldStartStrategy=\"drop\", implicitPrefs=False)\n",
        "param_grid = ParamGridBuilder().addGrid(als.rank, [5, 10, 20]).addGrid(als.regParam, [0.05, 0.1, 0.2]).build()\n",
        "evaluator = RegressionEvaluator(metricName=\"rmse\", labelCol=\"rating\", predictionCol=\"prediction\")\n",
        "cv = CrossValidator(estimator=als, estimatorParamMaps=param_grid, evaluator=evaluator, numFolds=5)\n",
        "cv_model = cv.fit(training)\n",
        "best_model = cv_model.bestModel\n",
        "cv_predictions = best_model.transform(test)\n",
        "cv_rmse = evaluator.evaluate(cv_predictions)\n",
        "cv_mse = evaluator.evaluate(cv_predictions, {evaluator.metricName: \"mse\"})\n",
        "cv_map_at_k = calculate_map_at_k(cv_predictions, k=10)\n",
        "print(f\"RMSE: {cv_rmse}, MSE: {cv_mse}, MAP at K: {cv_map_at_k}\")"
      ]
    },
    {
      "cell_type": "code",
      "source": [
        "best_rank = best_model.rank\n",
        "best_reg_param = best_model._java_obj.parent().getRegParam()\n",
        "print(f\"Best Rank: {best_rank}, Best Regularization Parameter: {best_reg_param}\")"
      ],
      "metadata": {
        "colab": {
          "base_uri": "https://localhost:8080/"
        },
        "id": "gp_nrh7Emm1k",
        "outputId": "8ff9215d-7444-4817-da9d-4f9d2ed90d55"
      },
      "execution_count": 10,
      "outputs": [
        {
          "output_type": "stream",
          "name": "stdout",
          "text": [
            "Best Rank: 10, Best Regularization Parameter: 0.2\n"
          ]
        }
      ]
    },
    {
      "cell_type": "markdown",
      "metadata": {
        "id": "2Nft7gnf132k"
      },
      "source": [
        "Implement a hybrid system that uses the ALS solution and item-item CF.\n",
        "You can use as guidance the scripts Hybrid Alg. and Hybrid Testing changing statements where appropriate. How does the performance change?"
      ]
    },
    {
      "cell_type": "markdown",
      "metadata": {
        "id": "1EJlsTNWUYNC"
      },
      "source": [
        "ITEM ITEM CF"
      ]
    },
    {
      "cell_type": "code",
      "execution_count": 16,
      "metadata": {
        "id": "3jdzjNW0A2Ah"
      },
      "outputs": [],
      "source": [
        "moviePairs = ratings_df.alias('df1').join(ratings_df.alias('df2'),\n",
        "                       ((F.col('df1.userId') == F.col('df2.userId')) & (F.col('df1.movieId') < F.col('df2.movieId'))))\\\n",
        "                       .select(F.col('df1.movieId').alias('movieId1'), F.col('df2.movieId').alias('movieId2'), F.col('df1.rating').alias('rating1'), F.col('df2.rating').alias('rating2'))"
      ]
    },
    {
      "cell_type": "code",
      "source": [
        "def computeCosineSimilarity(df):\n",
        "    # Create the new columns xx, yy, and xy for cosine similarity computation\n",
        "    df_score = df.withColumn('xx', F.col('rating1') * F.col('rating1')) \\\n",
        "                 .withColumn('yy', F.col('rating2') * F.col('rating2')) \\\n",
        "                 .withColumn('xy', F.col('rating1') * F.col('rating2'))\n",
        "\n",
        "    # Aggregate the results by unique movie pairs and calculate numerator, denominator, and number of shared viewers (i.e. numPairs)\n",
        "    df_score = df_score.groupby(['movieId1', 'movieId2']) \\\n",
        "                        .agg(F.sum(F.col('xy')).alias('numerator'),\n",
        "                            (F.sqrt(F.sum(F.col('xx'))) * F.sqrt(F.sum(F.col('yy')))).alias('denominator'),\n",
        "                            F.count(F.col('xy')).alias('num_pairs'))\n",
        "\n",
        "    df_score = df_score.withColumn('cosine_score', F.when(F.col('denominator') != 0, F.col('numerator')/F.col('denominator')).otherwise(F.lit(0))) \\\n",
        "              .select(['movieId1', 'movieId2', 'cosine_score', 'num_pairs'])\n",
        "\n",
        "    return df_score\n"
      ],
      "metadata": {
        "id": "IPkZl3rG4g0Q"
      },
      "execution_count": 17,
      "outputs": []
    },
    {
      "cell_type": "code",
      "execution_count": 18,
      "metadata": {
        "id": "jr0DovQjLmQS"
      },
      "outputs": [],
      "source": [
        "similar_movie_pairs_df = computeCosineSimilarity(moviePairs)"
      ]
    },
    {
      "cell_type": "code",
      "source": [
        "data = similar_movie_pairs_df.select('movieId1', 'movieId2', 'cosine_score').limit(10)"
      ],
      "metadata": {
        "id": "_PMpYyXPyJOP"
      },
      "execution_count": 111,
      "outputs": []
    },
    {
      "cell_type": "code",
      "source": [
        "G = nx.DiGraph()\n",
        "\n",
        "# Add nodes and edges with similarity scores\n",
        "for movieId1, movieId2, cosine_score in data.collect():\n",
        "    G.add_edge(movieId1, movieId2, weight=cosine_score)\n",
        "\n",
        "# Plot the network graph\n",
        "pos = nx.spring_layout(G)  # You can choose different layout algorithms\n",
        "edge_labels = {(movieId1, movieId2): f\"{cosine_score:.2f}\" for movieId1, movieId2, cosine_score in data.collect()}\n",
        "\n",
        "nx.draw(G, pos, with_labels=True, font_size=8, node_size=800, node_color=\"skyblue\", font_color=\"black\", font_weight=\"bold\", arrowsize=10)\n",
        "nx.draw_networkx_edge_labels(G, pos, edge_labels=edge_labels, font_color=\"red\")\n",
        "\n",
        "plt.title(\"Network Graph of Similar Movies\")\n",
        "plt.show()"
      ],
      "metadata": {
        "colab": {
          "base_uri": "https://localhost:8080/",
          "height": 539
        },
        "id": "n3Hu1iIMxDVw",
        "outputId": "5477af6e-2627-451e-fe18-1c2b4bde5bfa"
      },
      "execution_count": 112,
      "outputs": [
        {
          "output_type": "display_data",
          "data": {
            "text/plain": [
              "<Figure size 640x480 with 1 Axes>"
            ],
            "image/png": "[encoded data removed]"
          },
          "metadata": {}
        }
      ]
    },
    {
      "cell_type": "code",
      "execution_count": 19,
      "metadata": {
        "id": "KKmds06-F3bV"
      },
      "outputs": [],
      "source": [
        "# Split the data into training and testing sets\n",
        "(item_item_train, item_item_test) = similar_movie_pairs_df.randomSplit([0.8, 0.2], seed=7856)"
      ]
    },
    {
      "cell_type": "code",
      "execution_count": 24,
      "metadata": {
        "id": "JfxZVn_YMR0d"
      },
      "outputs": [],
      "source": [
        "# Combine ALS and item-item predictions\n",
        "combined_predictions = (\n",
        "    als_pred.join(item_item_test, als_pred[\"movieId\"] == item_item_test[\"movieId1\"], how=\"inner\")\n",
        "    .select(\n",
        "        als_pred[\"userId\"],\n",
        "        als_pred[\"movieId\"],\n",
        "        als_pred[\"prediction\"].alias(\"als_prediction\"),\n",
        "        als_pred[\"rating\"],\n",
        "        item_item_test[\"movieId2\"],\n",
        "        item_item_test[\"cosine_score\"]\n",
        "    )\n",
        "    .where(\"cosine_score > 0.97 AND num_pairs > 50\")\n",
        ")"
      ]
    },
    {
      "cell_type": "code",
      "source": [
        "combined_predictions2=combined_predictions.withColumn(\"weighted_prediction\", (F.col(\"als_prediction\") * 0.8) + (F.col(\"cosine_score\") * 0.8)) \\\n",
        "        .groupBy(\"userId\", \"movieId\") \\\n",
        "        .agg(F.max(\"weighted_prediction\").alias(\"weighted_prediction\"),F.max(\"rating\").alias(\"rating\"))"
      ],
      "metadata": {
        "id": "zFAFGG-J_I-T"
      },
      "execution_count": 25,
      "outputs": []
    },
    {
      "cell_type": "code",
      "execution_count": 26,
      "metadata": {
        "id": "F-PHBOKlMO-q"
      },
      "outputs": [],
      "source": [
        "combined_predictions2=combined_predictions2.withColumn(\"weighted_prediction\",F.round(F.col(\"weighted_prediction\"),1))"
      ]
    },
    {
      "cell_type": "code",
      "source": [
        "top10movies = combined_predictions.join(movies_df, combined_predictions.movieId==movies_df.movieId,how=\"left\") \\\n",
        "              .select(combined_predictions[\"userId\"],combined_predictions[\"movieId2\"],movies_df[\"title\"],combined_predictions[\"cosine_score\"])"
      ],
      "metadata": {
        "id": "SwxELHFz1g_g"
      },
      "execution_count": 27,
      "outputs": []
    },
    {
      "cell_type": "code",
      "source": [
        "top10movies=top10movies \\\n",
        "        .groupBy(\"userId\",\"title\") \\\n",
        "        .agg(F.max(\"cosine_score\"),F.max(\"rating\").alias(\"rating\"))"
      ],
      "metadata": {
        "id": "t5cTaERD3V7a"
      },
      "execution_count": null,
      "outputs": []
    },
    {
      "cell_type": "code",
      "source": [
        "from pyspark.sql.window import Window\n",
        "window_spec = Window.partitionBy(\"userId\").orderBy(F.desc(\"cosine_score\"))\n",
        "ranked_recommendations = top10movies.withColumn(\"rank\", F.row_number().over(window_spec))\n",
        "top_10_recommendations = ranked_recommendations.filter(\"rank <= 10\")\n",
        "aggregated_recommendations = top_10_recommendations.groupBy(\"userId\").agg(F.collect_list(F.struct(\"title\", \"cosine_score\")).alias(\"recommendations\"))\n",
        "aggregated_recommendations.show(truncate=False)"
      ],
      "metadata": {
        "colab": {
          "base_uri": "https://localhost:8080/"
        },
        "id": "fjaAULJu4HwF",
        "outputId": "7e612685-75dd-4f98-8c8a-df246e59025f"
      },
      "execution_count": 28,
      "outputs": [
        {
          "output_type": "stream",
          "name": "stdout",
          "text": [
            "+------+-------------------------------------------------------------------------------------------------------------------------------------------------------------------------------------------------------------------------------------------------------------------------------------------------------------------------------------------------------------------------------------------------------------------------------------------------------------------------------------------------------------------------------------------------------------------------------------------------------------------------------------------------------------------------------------------------------------------------------------------------------------------------------------------------------+\n",
            "|userId|recommendations                                                                                                                                                                                                                                                                                                                                                                                                                                                                                                                                                                                                                                                                                                                                                                                        |\n",
            "+------+-------------------------------------------------------------------------------------------------------------------------------------------------------------------------------------------------------------------------------------------------------------------------------------------------------------------------------------------------------------------------------------------------------------------------------------------------------------------------------------------------------------------------------------------------------------------------------------------------------------------------------------------------------------------------------------------------------------------------------------------------------------------------------------------------------+\n",
            "|3     |[{Ocean's Eleven (2001), 0.9852318204565945}, {American History X (1998), 0.9847159243089344}, {American History X (1998), 0.9835352561364165}, {American History X (1998), 0.9833496999349692}, {Clockwork Orange, A (1971), 0.9824811800890544}, {Ocean's Eleven (2001), 0.9821488220300301}, {Godfather: Part II, The (1974), 0.9798724526392008}, {American History X (1998), 0.9775647034050083}, {American History X (1998), 0.9774653923406589}, {Clockwork Orange, A (1971), 0.9774178628409704}]                                                                                                                                                                                                                                                                                              |\n",
            "|5     |[{Pulp Fiction (1994), 0.9810541878191049}, {Pulp Fiction (1994), 0.9793278126887348}, {Pulp Fiction (1994), 0.9786394943246407}, {Pulp Fiction (1994), 0.9783141874554939}, {Pulp Fiction (1994), 0.9767532112958504}, {Pulp Fiction (1994), 0.976337230890597}, {Pulp Fiction (1994), 0.976226263174576}, {Pulp Fiction (1994), 0.9755079991458107}, {Pulp Fiction (1994), 0.9743165876397729}, {Groundhog Day (1993), 0.9741820534587404}]                                                                                                                                                                                                                                                                                                                                                          |\n",
            "|6     |[{Raiders of the Lost Ark (Indiana Jones and the Raiders of the Lost Ark) (1981), 0.9830718292039488}, {Goodfellas (1990), 0.9809545119720279}, {Goodfellas (1990), 0.9806236801706922}, {Raiders of the Lost Ark (Indiana Jones and the Raiders of the Lost Ark) (1981), 0.978903675437535}, {Goodfellas (1990), 0.9731297055688792}, {Goodfellas (1990), 0.9728811990194671}, {Raiders of the Lost Ark (Indiana Jones and the Raiders of the Lost Ark) (1981), 0.9727852784263642}, {Raiders of the Lost Ark (Indiana Jones and the Raiders of the Lost Ark) (1981), 0.9727748937853291}, {Raiders of the Lost Ark (Indiana Jones and the Raiders of the Lost Ark) (1981), 0.9726640019256423}, {Raiders of the Lost Ark (Indiana Jones and the Raiders of the Lost Ark) (1981), 0.9725861292019111}]|\n",
            "|9     |[{Aliens (1986), 0.9814279490574713}, {Star Wars: Episode IV - A New Hope (1977), 0.9809269510296594}, {Aliens (1986), 0.9793301665022826}, {Star Wars: Episode IV - A New Hope (1977), 0.9792114713229494}, {Star Wars: Episode IV - A New Hope (1977), 0.9787596022400951}, {Star Wars: Episode IV - A New Hope (1977), 0.9786243315657127}, {Star Wars: Episode IV - A New Hope (1977), 0.9781842997926725}, {Aliens (1986), 0.9775519963140348}, {Aliens (1986), 0.9774591717249048}, {Aliens (1986), 0.9761721281250473}]                                                                                                                                                                                                                                                                         |\n",
            "|12    |[{Departed, The (2006), 0.9878994342679043}, {Forrest Gump (1994), 0.9863951170686497}, {Forrest Gump (1994), 0.9841198002760377}, {American Beauty (1999), 0.9833508315544977}, {Godfather, The (1972), 0.9826987977095478}, {Gladiator (2000), 0.9818641792805632}, {Aliens (1986), 0.9814279490574713}, {Goodfellas (1990), 0.9809545119720279}, {Reservoir Dogs (1992), 0.9808383045627108}, {Goodfellas (1990), 0.9806236801706922}]                                                                                                                                                                                                                                                                                                                                                              |\n",
            "|13    |[{Forrest Gump (1994), 0.9863951170686497}, {Ocean's Eleven (2001), 0.9852318204565945}, {Twelve Monkeys (a.k.a. 12 Monkeys) (1995), 0.9850456937136527}, {Forrest Gump (1994), 0.9841198002760377}, {Ocean's Eleven (2001), 0.9821488220300301}, {Shawshank Redemption, The (1994), 0.9821413709455667}, {Gladiator (2000), 0.9818641792805632}, {Shawshank Redemption, The (1994), 0.9814755766300743}, {Gladiator (2000), 0.9804994879759896}, {Gladiator (2000), 0.9803896244053483}]                                                                                                                                                                                                                                                                                                              |\n",
            "|15    |[{Forrest Gump (1994), 0.9863951170686497}, {Forrest Gump (1994), 0.9841198002760377}, {Fargo (1996), 0.9807405873809092}, {Fargo (1996), 0.980286457967817}, {Matrix, The (1999), 0.979194952540587}, {Matrix, The (1999), 0.9779327937416841}, {Fargo (1996), 0.9778656451621716}, {Fargo (1996), 0.9771084056425763}, {Matrix, The (1999), 0.9767857434880444}, {Fargo (1996), 0.9764532346927769}]                                                                                                                                                                                                                                                                                                                                                                                                 |\n",
            "|16    |[{American Beauty (1999), 0.9833508315544977}, {Rain Man (1988), 0.980879839919869}, {Lord of the Rings: The Two Towers, The (2002), 0.9742781662101212}, {American Beauty (1999), 0.9734246121276989}, {Lord of the Rings: The Two Towers, The (2002), 0.9727606207907825}, {Rain Man (1988), 0.97077613910064}, {American Beauty (1999), 0.97033375065866}]                                                                                                                                                                                                                                                                                                                                                                                                                                          |\n",
            "|19    |[{Forrest Gump (1994), 0.9863951170686497}, {Forrest Gump (1994), 0.9841198002760377}, {Shawshank Redemption, The (1994), 0.9821413709455667}, {Shawshank Redemption, The (1994), 0.9814755766300743}, {Braveheart (1995), 0.9812597460214314}, {Pulp Fiction (1994), 0.9810541878191049}, {Trainspotting (1996), 0.9797221388257636}, {Shawshank Redemption, The (1994), 0.9795661760616378}, {Trainspotting (1996), 0.9795427907665599}, {Pulp Fiction (1994), 0.9793278126887348}]                                                                                                                                                                                                                                                                                                                  |\n",
            "|20    |[{Harry Potter and the Chamber of Secrets (2002), 0.9871061784553216}, {Star Wars: Episode IV - A New Hope (1977), 0.9809269510296594}, {Ghostbusters (a.k.a. Ghost Busters) (1984), 0.9798352334669863}, {Star Wars: Episode VI - Return of the Jedi (1983), 0.9792615479802751}, {Star Wars: Episode IV - A New Hope (1977), 0.9792114713229494}, {Star Wars: Episode IV - A New Hope (1977), 0.9787596022400951}, {Star Wars: Episode IV - A New Hope (1977), 0.9786243315657127}, {Star Wars: Episode IV - A New Hope (1977), 0.9781842997926725}, {Star Wars: Episode IV - A New Hope (1977), 0.9761576357467942}, {Star Wars: Episode IV - A New Hope (1977), 0.9761329723190796}]                                                                                                               |\n",
            "|22    |[{Shawshank Redemption, The (1994), 0.9821413709455667}, {Shawshank Redemption, The (1994), 0.9814755766300743}, {Shawshank Redemption, The (1994), 0.9795661760616378}, {Shawshank Redemption, The (1994), 0.9771473170966832}, {Shawshank Redemption, The (1994), 0.9763561027086691}, {Shawshank Redemption, The (1994), 0.9761985078455907}, {Shawshank Redemption, The (1994), 0.976126290677697}, {Shawshank Redemption, The (1994), 0.9761029795530368}, {Shawshank Redemption, The (1994), 0.9758895288484382}, {Shawshank Redemption, The (1994), 0.9757846633935466}]                                                                                                                                                                                                                        |\n",
            "|26    |[{Raiders of the Lost Ark (Indiana Jones and the Raiders of the Lost Ark) (1981), 0.9830718292039488}, {Pulp Fiction (1994), 0.9810541878191049}, {Silence of the Lambs, The (1991), 0.9805842443149877}, {Silence of the Lambs, The (1991), 0.9805462732673901}, {Silence of the Lambs, The (1991), 0.9805081968403427}, {Pulp Fiction (1994), 0.9793278126887348}, {Silence of the Lambs, The (1991), 0.9792305009967377}, {Matrix, The (1999), 0.979194952540587}, {Raiders of the Lost Ark (Indiana Jones and the Raiders of the Lost Ark) (1981), 0.978903675437535}, {Pulp Fiction (1994), 0.9786394943246407}]                                                                                                                                                                                  |\n",
            "|27    |[{E.T. the Extra-Terrestrial (1982), 0.979184381316478}, {Wizard of Oz, The (1939), 0.9774371836428658}, {Wizard of Oz, The (1939), 0.9763480963638087}, {Batman (1989), 0.9740010055376699}, {E.T. the Extra-Terrestrial (1982), 0.973866939231889}, {E.T. the Extra-Terrestrial (1982), 0.9732491995863898}, {Dances with Wolves (1990), 0.9728410936757136}, {E.T. the Extra-Terrestrial (1982), 0.9701943043669092}]                                                                                                                                                                                                                                                                                                                                                                               |\n",
            "|28    |[{Terminator, The (1984), 0.9858093128569566}, {Terminator, The (1984), 0.9850631459187862}, {Back to the Future (1985), 0.9796389790474358}, {Back to the Future (1985), 0.9785705888379508}, {Terminator, The (1984), 0.9781762626781105}, {Terminator, The (1984), 0.9758159692109479}, {Back to the Future (1985), 0.9726628543540122}, {Terminator, The (1984), 0.9718819507523864}, {Back to the Future (1985), 0.9705831046949048}, {Terminator, The (1984), 0.9704134781472558}]                                                                                                                                                                                                                                                                                                               |\n",
            "|31    |[{Memento (2000), 0.9888893096270008}, {Seven (a.k.a. Se7en) (1995), 0.986749597982267}, {Terminator, The (1984), 0.9858093128569566}, {Terminator, The (1984), 0.9850631459187862}, {Twelve Monkeys (a.k.a. 12 Monkeys) (1995), 0.9850456937136527}, {Green Mile, The (1999), 0.9845804954991088}, {American Beauty (1999), 0.9833508315544977}, {One Flew Over the Cuckoo's Nest (1975), 0.9830454383436267}, {Terminator 2: Judgment Day (1991), 0.9830234078492578}, {Memento (2000), 0.9822482418964251}]                                                                                                                                                                                                                                                                                         |\n",
            "|34    |[{Braveheart (1995), 0.9812597460214314}, {Braveheart (1995), 0.9789494742101492}, {Braveheart (1995), 0.9762952191765593}, {Braveheart (1995), 0.9738733035941743}, {Braveheart (1995), 0.9731140989542085}, {Braveheart (1995), 0.9716750538161467}, {Braveheart (1995), 0.9702734605881533}, {Braveheart (1995), 0.9701389120676125}]                                                                                                                                                                                                                                                                                                                                                                                                                                                               |\n",
            "|35    |[{Jumanji (1995), 0.9701580436855601}, {Jumanji (1995), 0.97011627897415}]                                                                                                                                                                                                                                                                                                                                                                                                                                                                                                                                                                                                                                                                                                                             |\n",
            "|37    |[{Memento (2000), 0.9888893096270008}, {Good Will Hunting (1997), 0.9843186595762242}, {Good Will Hunting (1997), 0.9837153548187813}, {Good Will Hunting (1997), 0.9836150398307894}, {Memento (2000), 0.9822482418964251}, {Good Will Hunting (1997), 0.9816803766153532}, {Good Will Hunting (1997), 0.98134299950114}, {Good Will Hunting (1997), 0.9810915091511084}, {Good Will Hunting (1997), 0.9810510270070117}, {Good Will Hunting (1997), 0.980229068166762}]                                                                                                                                                                                                                                                                                                                              |\n",
            "|40    |[{Good Will Hunting (1997), 0.9843186595762242}, {Good Will Hunting (1997), 0.9837153548187813}, {Good Will Hunting (1997), 0.9836150398307894}, {Schindler's List (1993), 0.9828760156677858}, {Good Will Hunting (1997), 0.9816803766153532}, {Léon: The Professional (a.k.a. The Professional) (Léon) (1994), 0.9815527246479443}, {Good Will Hunting (1997), 0.98134299950114}, {Braveheart (1995), 0.9812597460214314}, {Good Will Hunting (1997), 0.9810915091511084}, {Pulp Fiction (1994), 0.9810541878191049}]                                                                                                                                                                                                                                                                                |\n",
            "|41    |[{Men in Black (a.k.a. MIB) (1997), 0.9813184895576078}, {Godfather: Part II, The (1974), 0.9798724526392008}, {Matrix, The (1999), 0.979194952540587}, {Indiana Jones and the Last Crusade (1989), 0.9780360602936572}, {Men in Black (a.k.a. MIB) (1997), 0.9780006127223068}, {Matrix, The (1999), 0.9779327937416841}, {Indiana Jones and the Last Crusade (1989), 0.9778999734980574}, {Matrix, The (1999), 0.9767857434880444}, {Matrix, The (1999), 0.975826543316582}, {Indiana Jones and the Last Crusade (1989), 0.9752180712604163}]                                                                                                                                                                                                                                                        |\n",
            "+------+-------------------------------------------------------------------------------------------------------------------------------------------------------------------------------------------------------------------------------------------------------------------------------------------------------------------------------------------------------------------------------------------------------------------------------------------------------------------------------------------------------------------------------------------------------------------------------------------------------------------------------------------------------------------------------------------------------------------------------------------------------------------------------------------------------+\n",
            "only showing top 20 rows\n",
            "\n"
          ]
        }
      ]
    },
    {
      "cell_type": "code",
      "source": [
        "#wts: 0.8, 0.9"
      ],
      "metadata": {
        "id": "8Miuovpr8_sQ"
      },
      "execution_count": 59,
      "outputs": []
    },
    {
      "cell_type": "code",
      "source": [
        "# hybrid_eval1 = RegressionEvaluator(metricName=\"rmse\", labelCol=\"rating\", predictionCol=\"weighted_prediction\")\n",
        "# hybrid_eval1_rmse = hybrid_eval1.evaluate(combined_predictions2)\n",
        "# print(\"Root Mean Squared Error (RMSE) = \" + str(hybrid_eval1_rmse))"
      ],
      "metadata": {
        "colab": {
          "base_uri": "https://localhost:8080/"
        },
        "id": "v0TH-gI58-Uz",
        "outputId": "b9a00e1b-b5ae-43cc-d35a-cf75d6932577"
      },
      "execution_count": 60,
      "outputs": [
        {
          "output_type": "stream",
          "name": "stdout",
          "text": [
            "Root Mean Squared Error (RMSE) = 0.8504000445661729\n"
          ]
        }
      ]
    },
    {
      "cell_type": "code",
      "source": [
        "# hybrid_eval2 = RegressionEvaluator(metricName=\"mse\", labelCol=\"rating\", predictionCol=\"weighted_prediction\")\n",
        "# hybrid_eval1_mse = hybrid_eval2.evaluate(combined_predictions2)\n",
        "# print(\"Mean Squared Error (MSE) = \" + str(hybrid_eval1_mse))"
      ],
      "metadata": {
        "colab": {
          "base_uri": "https://localhost:8080/"
        },
        "id": "4dm1b7YX8-D2",
        "outputId": "ce1942d2-26e2-497a-d9d1-4f4b8f8d025b"
      },
      "execution_count": 61,
      "outputs": [
        {
          "output_type": "stream",
          "name": "stdout",
          "text": [
            "Mean Squared Error (MSE) = 0.7231802357981488\n"
          ]
        }
      ]
    },
    {
      "cell_type": "code",
      "source": [
        "#wts - 0.8, 0.8"
      ],
      "metadata": {
        "id": "puMkW4L3wDs6"
      },
      "execution_count": null,
      "outputs": []
    },
    {
      "cell_type": "code",
      "source": [
        "hybrid_eval1 = RegressionEvaluator(metricName=\"rmse\", labelCol=\"rating\", predictionCol=\"weighted_prediction\")\n",
        "hybrid_eval1_rmse = hybrid_eval1.evaluate(combined_predictions2)\n",
        "print(\"Root Mean Squared Error (RMSE) = \" + str(hybrid_eval1_rmse))"
      ],
      "metadata": {
        "colab": {
          "base_uri": "https://localhost:8080/"
        },
        "id": "OD83IhNQsq2_",
        "outputId": "4e259d19-d0b6-40aa-9119-611d9236f2bd"
      },
      "execution_count": 45,
      "outputs": [
        {
          "output_type": "stream",
          "name": "stdout",
          "text": [
            "Root Mean Squared Error (RMSE) = 0.7794850872648431\n"
          ]
        }
      ]
    },
    {
      "cell_type": "code",
      "source": [
        "hybrid_eval2 = RegressionEvaluator(metricName=\"mse\", labelCol=\"rating\", predictionCol=\"weighted_prediction\")\n",
        "hybrid_eval1_mse = hybrid_eval2.evaluate(combined_predictions2)\n",
        "print(\"Mean Squared Error (MSE) = \" + str(hybrid_eval1_mse))"
      ],
      "metadata": {
        "colab": {
          "base_uri": "https://localhost:8080/"
        },
        "id": "VRzZMe8Fs5is",
        "outputId": "6f500c33-7a88-4efb-c65e-7fbfd0fdb5d7"
      },
      "execution_count": 46,
      "outputs": [
        {
          "output_type": "stream",
          "name": "stdout",
          "text": [
            "Mean Squared Error (MSE) = 0.6075970012682801\n"
          ]
        }
      ]
    },
    {
      "cell_type": "code",
      "source": [
        "#wts - 0.7, 0.8"
      ],
      "metadata": {
        "id": "6aOhP262wp8C"
      },
      "execution_count": null,
      "outputs": []
    },
    {
      "cell_type": "code",
      "execution_count": 49,
      "metadata": {
        "id": "SuRtHhQeiEEm",
        "colab": {
          "base_uri": "https://localhost:8080/"
        },
        "outputId": "76e0c21e-b760-4a25-adcc-8befc00ff3c5"
      },
      "outputs": [
        {
          "output_type": "stream",
          "name": "stdout",
          "text": [
            "Root Mean Squared Error (RMSE) = 0.9203506418896282\n"
          ]
        }
      ],
      "source": [
        "# hybrid_eval1 = RegressionEvaluator(metricName=\"rmse\", labelCol=\"rating\", predictionCol=\"weighted_prediction\")\n",
        "# hybrid_eval1_rmse = hybrid_eval1.evaluate(combined_predictions2)\n",
        "# print(\"Root Mean Squared Error (RMSE) = \" + str(hybrid_eval1_rmse))"
      ]
    },
    {
      "cell_type": "code",
      "source": [
        "# hybrid_eval2 = RegressionEvaluator(metricName=\"mse\", labelCol=\"rating\", predictionCol=\"weighted_prediction\")\n",
        "# hybrid_eval1_mse = hybrid_eval2.evaluate(combined_predictions2)\n",
        "# print(\"Mean Squared Error (MSE) = \" + str(hybrid_eval1_mse))"
      ],
      "metadata": {
        "id": "inU8vG0ufXrU",
        "colab": {
          "base_uri": "https://localhost:8080/"
        },
        "outputId": "01737014-012f-4608-91f9-b5a6a4e9cab2"
      },
      "execution_count": 50,
      "outputs": [
        {
          "output_type": "stream",
          "name": "stdout",
          "text": [
            "Mean Squared Error (MSE) = 0.8470453040266508\n"
          ]
        }
      ]
    },
    {
      "cell_type": "code",
      "source": [
        "#wts - 0.5, 0.5"
      ],
      "metadata": {
        "id": "wImDEBZFwucz"
      },
      "execution_count": null,
      "outputs": []
    },
    {
      "cell_type": "code",
      "source": [
        "# hybrid_eval1 = RegressionEvaluator(metricName=\"rmse\", labelCol=\"rating\", predictionCol=\"weighted_prediction\")\n",
        "# hybrid_eval1_rmse = hybrid_eval1.evaluate(combined_predictions2)\n",
        "# print(\"Root Mean Squared Error (RMSE) = \" + str(hybrid_eval1_rmse))"
      ],
      "metadata": {
        "colab": {
          "base_uri": "https://localhost:8080/"
        },
        "id": "qDrTn53UftQW",
        "outputId": "61eb6a63-67c0-45c4-824a-6e521755ba6c"
      },
      "execution_count": 55,
      "outputs": [
        {
          "output_type": "stream",
          "name": "stdout",
          "text": [
            "Root Mean Squared Error (RMSE) = 1.753861785827721\n"
          ]
        }
      ]
    },
    {
      "cell_type": "code",
      "source": [
        "# hybrid_eval2 = RegressionEvaluator(metricName=\"mse\", labelCol=\"rating\", predictionCol=\"weighted_prediction\")\n",
        "# hybrid_eval1_mse = hybrid_eval2.evaluate(combined_predictions2)\n",
        "# print(\"Mean Squared Error (MSE) = \" + str(hybrid_eval1_mse))"
      ],
      "metadata": {
        "colab": {
          "base_uri": "https://localhost:8080/"
        },
        "id": "upMrQX5FxHFh",
        "outputId": "989d192c-3282-498f-a133-b7183253078c"
      },
      "execution_count": 56,
      "outputs": [
        {
          "output_type": "stream",
          "name": "stdout",
          "text": [
            "Mean Squared Error (MSE) = 3.0760311637868027\n"
          ]
        }
      ]
    },
    {
      "cell_type": "code",
      "source": [
        "als_rmse = als_rmse\n",
        "als_mse = als_mse\n",
        "\n",
        "cv_rmse = cv_rmse\n",
        "cv_mse = cv_mse\n",
        "\n",
        "hybrid_rmse = hybrid_eval1_rmse\n",
        "hybrid_mse =  hybrid_eval1_mse"
      ],
      "metadata": {
        "id": "qBuFC2Xpja5o"
      },
      "execution_count": null,
      "outputs": []
    },
    {
      "cell_type": "code",
      "source": [
        "# Plotting\n",
        "labels = ['ALS', 'Cross Validation', 'Hybrid']\n",
        "rmse_values = [als_rmse, cv_rmse, hybrid_rmse]\n",
        "mse_values = [als_mse, cv_mse, hybrid_mse]\n",
        "\n",
        "fig, ax = plt.subplots()\n",
        "\n",
        "# Plot RMSE\n",
        "ax.bar(labels, rmse_values, label='RMSE', alpha=0.7)\n",
        "\n",
        "# Plot MSE\n",
        "ax.bar(labels, mse_values, label='MSE', alpha=0.7)\n",
        "\n",
        "ax.set_ylabel('Error Metrics')\n",
        "ax.set_title('Comparison of RMSE and MSE')\n",
        "ax.legend()\n",
        "\n",
        "plt.show()"
      ],
      "metadata": {
        "colab": {
          "base_uri": "https://localhost:8080/",
          "height": 452
        },
        "id": "TIhvrobzs7BH",
        "outputId": "5579151b-0416-44b8-c2c4-b51c41babd84"
      },
      "execution_count": 86,
      "outputs": [
        {
          "output_type": "display_data",
          "data": {
            "text/plain": [
              "<Figure size 640x480 with 1 Axes>"
            ],
            "image/png": "[encoded data removed]"
          },
          "metadata": {}
        }
      ]
    },
    {
      "cell_type": "code",
      "source": [
        "algorithms = ['ALS', 'Cross Validation', 'Hybrid']\n",
        "rmse_values = [als_rmse, cv_rmse, hybrid_rmse]\n",
        "mse_values = [als_mse, cv_mse, hybrid_mse]\n",
        "\n",
        "bar_width = 0.35\n",
        "index = np.arange(len(algorithms))\n",
        "\n",
        "plt.bar(index, rmse_values, bar_width, label='RMSE', color='blue')\n",
        "plt.bar(index + bar_width, mse_values, bar_width, label='MSE', color='orange')\n",
        "\n",
        "plt.xlabel('Algorithms')\n",
        "plt.ylabel('Error Values')\n",
        "plt.title('Comparison of RMSE and MSE for Different Algorithms')\n",
        "plt.xticks(index + bar_width / 2, algorithms)\n",
        "plt.legend()\n",
        "plt.show()\n"
      ],
      "metadata": {
        "colab": {
          "base_uri": "https://localhost:8080/",
          "height": 472
        },
        "id": "KIHWYmsPt9IS",
        "outputId": "20a54d4d-eb39-4220-b310-442e23e6c739"
      },
      "execution_count": 90,
      "outputs": [
        {
          "output_type": "display_data",
          "data": {
            "text/plain": [
              "<Figure size 640x480 with 1 Axes>"
            ],
            "image/png": "[encoded data removed]"
          },
          "metadata": {}
        }
      ]
    },
    {
      "cell_type": "markdown",
      "source": [
        "New Hybrid Score"
      ],
      "metadata": {
        "id": "QnUpNQSijhNK"
      }
    },
    {
      "cell_type": "code",
      "source": [
        "assembler = VectorAssembler(inputCols=[\"userId\", \"movieId\"], outputCol=\"features\")\n",
        "assembled_df = assembler.transform(ratings_df.drop('timestamp'))"
      ],
      "metadata": {
        "id": "ohm4aK1XDP0u"
      },
      "execution_count": 113,
      "outputs": []
    },
    {
      "cell_type": "code",
      "source": [
        "train_df, test_df = assembled_df.randomSplit([0.8, 0.2], seed=42)"
      ],
      "metadata": {
        "id": "tF1-3UouD1Sd"
      },
      "execution_count": 114,
      "outputs": []
    },
    {
      "cell_type": "code",
      "source": [
        "lr = LinearRegression(featuresCol=\"features\", labelCol=\"rating\")\n",
        "lr_model = lr.fit(train_df)"
      ],
      "metadata": {
        "id": "N_tWnPTxDkY0"
      },
      "execution_count": 116,
      "outputs": []
    },
    {
      "cell_type": "code",
      "source": [
        "lr_predictions = lr_model.transform(test_df)"
      ],
      "metadata": {
        "id": "K_igrxp9GI7U"
      },
      "execution_count": 117,
      "outputs": []
    },
    {
      "cell_type": "code",
      "source": [
        "lr_predictions=lr_predictions.withColumn(\"prediction\",F.round(F.col(\"prediction\"), 1))"
      ],
      "metadata": {
        "id": "KUQXk1Ws8H7j"
      },
      "execution_count": 119,
      "outputs": []
    },
    {
      "cell_type": "code",
      "source": [
        "lr_evaluator = RegressionEvaluator(labelCol='rating', predictionCol='prediction', metricName='rmse')\n",
        "lr_rmse = lr_evaluator.evaluate(lr_predictions)\n",
        "print(f\"Root Mean Squared Error (RMSE): {lr_rmse}\")"
      ],
      "metadata": {
        "colab": {
          "base_uri": "https://localhost:8080/"
        },
        "id": "HGovpbrK18KB",
        "outputId": "7f140fc1-a765-4c03-d154-bb81bb19ec7a"
      },
      "execution_count": 120,
      "outputs": [
        {
          "output_type": "stream",
          "name": "stdout",
          "text": [
            "Root Mean Squared Error (RMSE): 1.061577491645831\n"
          ]
        }
      ]
    },
    {
      "cell_type": "code",
      "source": [
        "lr_evaluator2 = RegressionEvaluator(labelCol='rating', predictionCol='prediction', metricName='mse')\n",
        "lr_mse = lr_evaluator2.evaluate(lr_predictions)\n",
        "print(f\"Mean Squared Error (MSE): {lr_mse}\")"
      ],
      "metadata": {
        "colab": {
          "base_uri": "https://localhost:8080/"
        },
        "id": "jBOXjmVw178U",
        "outputId": "31f643a7-c446-4c1b-e098-f1315e22cea3"
      },
      "execution_count": 121,
      "outputs": [
        {
          "output_type": "stream",
          "name": "stdout",
          "text": [
            "Mean Squared Error (MSE): 1.1269467707690544\n"
          ]
        }
      ]
    },
    {
      "cell_type": "code",
      "source": [
        "# Combine previous Hybrid model with the linear regression\n",
        "combined_predictions3 = (\n",
        "    combined_predictions.join(lr_predictions, (combined_predictions[\"userId\"] == lr_predictions[\"userId\"]) & (combined_predictions[\"movieId\"] == lr_predictions[\"movieId\"]), how=\"inner\")\n",
        "    .select(\n",
        "        combined_predictions[\"userId\"],\n",
        "        combined_predictions[\"movieId\"],\n",
        "        combined_predictions[\"als_prediction\"],\n",
        "        combined_predictions[\"rating\"],\n",
        "        combined_predictions[\"movieId2\"],\n",
        "        combined_predictions[\"cosine_score\"],\n",
        "        lr_predictions[\"prediction\"]\n",
        "    )\n",
        ")"
      ],
      "metadata": {
        "id": "4-TmQtr6_Wnq"
      },
      "execution_count": 127,
      "outputs": []
    },
    {
      "cell_type": "code",
      "source": [
        "combined_predictions4=combined_predictions3.withColumn(\"weighted_prediction\", (F.col(\"als_prediction\") * 0.8) + (F.col(\"cosine_score\") * 0.4) + (F.col(\"prediction\") * 0.2)) \\\n",
        "        .groupBy(\"userId\", \"movieId\") \\\n",
        "        .agg(F.max(\"weighted_prediction\").alias(\"weighted_prediction\"),F.max(\"rating\").alias(\"rating\"))"
      ],
      "metadata": {
        "id": "8FB17UprEYrr"
      },
      "execution_count": 147,
      "outputs": []
    },
    {
      "cell_type": "code",
      "source": [
        "combined_predictions4=combined_predictions4.withColumn(\"weighted_prediction\",F.round(F.col(\"weighted_prediction\"),1))"
      ],
      "metadata": {
        "id": "P-4Jrsh_dlAK"
      },
      "execution_count": 148,
      "outputs": []
    },
    {
      "cell_type": "code",
      "source": [
        "#WTS - 0.5, 0.5, 0.2"
      ],
      "metadata": {
        "id": "tiSyl1tcob3I"
      },
      "execution_count": 149,
      "outputs": []
    },
    {
      "cell_type": "code",
      "source": [
        "# hybrid_eval3 = RegressionEvaluator(labelCol='rating', predictionCol='weighted_prediction', metricName='rmse')\n",
        "# hybrid_eval3_rmse = hybrid_eval3.evaluate(combined_predictions4)\n",
        "# print(f\"Root Mean Squared Error (RMSE): {hybrid_eval3_rmse}\")\n",
        "\n",
        "# hybrid_eval4 = RegressionEvaluator(labelCol='rating', predictionCol='weighted_prediction', metricName='mse')\n",
        "# hybrid_eval4_mse = hybrid_eval4.evaluate(combined_predictions4)\n",
        "# print(f\"Mean Squared Error (MSE): {hybrid_eval4_mse}\")"
      ],
      "metadata": {
        "colab": {
          "base_uri": "https://localhost:8080/"
        },
        "id": "JYOHeK5wobuj",
        "outputId": "d06a903b-b043-44b8-c6e3-c2c2f802ede6"
      },
      "execution_count": 150,
      "outputs": [
        {
          "output_type": "stream",
          "name": "stdout",
          "text": [
            "Root Mean Squared Error (RMSE): 0.8010175969481886\n",
            "Mean Squared Error (MSE): 0.6416291906206507\n"
          ]
        }
      ]
    },
    {
      "cell_type": "code",
      "source": [
        "#wts - 0.7, 0.5, 0.2"
      ],
      "metadata": {
        "id": "I0sEs-qfms-u"
      },
      "execution_count": 141,
      "outputs": []
    },
    {
      "cell_type": "code",
      "source": [
        "hybrid_eval3 = RegressionEvaluator(labelCol='rating', predictionCol='weighted_prediction', metricName='rmse')\n",
        "hybrid_eval3_rmse = hybrid_eval3.evaluate(combined_predictions4)\n",
        "print(f\"Root Mean Squared Error (RMSE): {hybrid_eval3_rmse}\")\n",
        "\n",
        "hybrid_eval4 = RegressionEvaluator(labelCol='rating', predictionCol='weighted_prediction', metricName='mse')\n",
        "hybrid_eval4_mse = hybrid_eval4.evaluate(combined_predictions4)\n",
        "print(f\"Mean Squared Error (MSE): {hybrid_eval4_mse}\")"
      ],
      "metadata": {
        "colab": {
          "base_uri": "https://localhost:8080/"
        },
        "id": "EYw2MWX1ms7k",
        "outputId": "72f6922f-f632-4a96-dd7f-06c59b78ce1f"
      },
      "execution_count": 142,
      "outputs": [
        {
          "output_type": "stream",
          "name": "stdout",
          "text": [
            "Root Mean Squared Error (RMSE): 0.7877494988436883\n",
            "Mean Squared Error (MSE): 0.620549272928482\n"
          ]
        }
      ]
    },
    {
      "cell_type": "code",
      "source": [
        "#wts - 0.7,0.3,0.2"
      ],
      "metadata": {
        "id": "JKpyQ3vnjHyd"
      },
      "execution_count": null,
      "outputs": []
    },
    {
      "cell_type": "code",
      "source": [
        "# hybrid_eval3 = RegressionEvaluator(labelCol='rating', predictionCol='weighted_prediction', metricName='rmse')\n",
        "# hybrid_eval3_rmse = hybrid_eval3.evaluate(combined_predictions4)\n",
        "# print(f\"Root Mean Squared Error (RMSE): {hybrid_eval3_rmse}\")\n",
        "\n",
        "# hybrid_eval4 = RegressionEvaluator(labelCol='rating', predictionCol='weighted_prediction', metricName='mse')\n",
        "# hybrid_eval4_mse = hybrid_eval4.evaluate(combined_predictions4)\n",
        "# print(f\"Mean Squared Error (MSE): {hybrid_eval4_mse}\")"
      ],
      "metadata": {
        "colab": {
          "base_uri": "https://localhost:8080/"
        },
        "id": "JBuB267djHvO",
        "outputId": "4944c3cb-b93e-4a0d-964a-83b4799912b4"
      },
      "execution_count": 138,
      "outputs": [
        {
          "output_type": "stream",
          "name": "stdout",
          "text": [
            "Root Mean Squared Error (RMSE): 0.8300929584860346\n",
            "Mean Squared Error (MSE): 0.6890543197280976\n"
          ]
        }
      ]
    },
    {
      "cell_type": "code",
      "source": [
        "#wts - 0.7,0.7,0.2"
      ],
      "metadata": {
        "id": "bw77I85ei9mr"
      },
      "execution_count": null,
      "outputs": []
    },
    {
      "cell_type": "code",
      "source": [
        "# hybrid_eval3 = RegressionEvaluator(labelCol='rating', predictionCol='weighted_prediction', metricName='rmse')\n",
        "# hybrid_eval3_rmse = hybrid_eval3.evaluate(combined_predictions4)\n",
        "# print(f\"Root Mean Squared Error (RMSE): {hybrid_eval3_rmse}\")\n",
        "\n",
        "# hybrid_eval4 = RegressionEvaluator(labelCol='rating', predictionCol='weighted_prediction', metricName='mse')\n",
        "# hybrid_eval4_mse = hybrid_eval4.evaluate(combined_predictions4)\n",
        "# print(f\"Mean Squared Error (MSE): {hybrid_eval4_mse}\")"
      ],
      "metadata": {
        "colab": {
          "base_uri": "https://localhost:8080/"
        },
        "id": "-KPiQY6Bdb3i",
        "outputId": "5b5bd322-0854-4fc3-acd7-064d807d7331"
      },
      "execution_count": 135,
      "outputs": [
        {
          "output_type": "stream",
          "name": "stdout",
          "text": [
            "Root Mean Squared Error (RMSE): 0.7927074013165167\n",
            "Mean Squared Error (MSE): 0.628385024101985\n"
          ]
        }
      ]
    },
    {
      "cell_type": "code",
      "source": [
        "#wts - 0.8,0.8,0.2"
      ],
      "metadata": {
        "id": "-ZqdeHO2i48l"
      },
      "execution_count": null,
      "outputs": []
    },
    {
      "cell_type": "code",
      "source": [
        "# hybrid_eval3 = RegressionEvaluator(labelCol='rating', predictionCol='weighted_prediction', metricName='rmse')\n",
        "# hybrid_eval3_rmse = hybrid_eval3.evaluate(combined_predictions4)\n",
        "# print(f\"Root Mean Squared Error (RMSE): {hybrid_eval3_rmse}\")\n",
        "\n",
        "# hybrid_eval4 = RegressionEvaluator(labelCol='rating', predictionCol='weighted_prediction', metricName='mse')\n",
        "# hybrid_eval4_mse = hybrid_eval4.evaluate(combined_predictions4)\n",
        "# print(f\"Mean Squared Error (MSE): {hybrid_eval4_mse}\")"
      ],
      "metadata": {
        "colab": {
          "base_uri": "https://localhost:8080/"
        },
        "id": "bQ_10YoiAkik",
        "outputId": "c449c520-0414-403c-b452-4a11fee0ef19"
      },
      "execution_count": 132,
      "outputs": [
        {
          "output_type": "stream",
          "name": "stdout",
          "text": [
            "Root Mean Squared Error (RMSE): 0.97463030046013\n",
            "Mean Squared Error (MSE): 0.9499042225750032\n"
          ]
        }
      ]
    },
    {
      "cell_type": "code",
      "source": [
        "new_hybrid_rmse = hybrid_eval3_rmse\n",
        "new_hybrid_mse = hybrid_eval4_mse"
      ],
      "metadata": {
        "id": "donovh4p_sVw"
      },
      "execution_count": null,
      "outputs": []
    },
    {
      "cell_type": "code",
      "source": [
        "algorithms = ['ALS', 'Cross Validation', 'Hybrid', 'New Hybrid']\n",
        "rmse_values = [als_rmse, cv_rmse, hybrid_rmse, new_hybrid_rmse]\n",
        "mse_values = [als_mse, cv_mse, hybrid_mse, new_hybrid_mse]\n",
        "\n",
        "bar_width = 0.35\n",
        "index = np.arange(len(algorithms))\n",
        "\n",
        "plt.bar(index, rmse_values, bar_width, label='RMSE', color='blue')\n",
        "plt.bar(index + bar_width, mse_values, bar_width, label='MSE', color='orange')\n",
        "\n",
        "plt.xlabel('Algorithms')\n",
        "plt.ylabel('Error Values')\n",
        "plt.title('Comparison of RMSE and MSE for Different Algorithms')\n",
        "plt.xticks(index + bar_width / 2, algorithms)\n",
        "plt.legend()\n",
        "plt.show()"
      ],
      "metadata": {
        "colab": {
          "base_uri": "https://localhost:8080/",
          "height": 472
        },
        "id": "37nsFNt3FTQo",
        "outputId": "c28dd907-bafd-473b-bfd8-d9e4e1187757"
      },
      "execution_count": 12,
      "outputs": [
        {
          "output_type": "display_data",
          "data": {
            "text/plain": [
              "<Figure size 640x480 with 1 Axes>"
            ],
            "image/png": "[encoded data removed]"
          },
          "metadata": {}
        }
      ]
    },
    {
      "cell_type": "code",
      "source": [],
      "metadata": {
        "id": "a1ZJdbdLnfFB"
      },
      "execution_count": null,
      "outputs": []
    }
  ],
  "metadata": {
    "accelerator": "GPU",
    "colab": {
      "provenance": [],
      "gpuType": "T4"
    },
    "kernelspec": {
      "display_name": "Python 3",
      "name": "python3"
    },
    "language_info": {
      "name": "python"
    }
  },
  "nbformat": 4,
  "nbformat_minor": 0
}